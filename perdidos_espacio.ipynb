{
 "cells": [
  {
   "attachments": {},
   "cell_type": "markdown",
   "metadata": {},
   "source": [
    "# **PERDIDOS EN EL ESPACIO**"
   ]
  },
  {
   "attachments": {},
   "cell_type": "markdown",
   "metadata": {},
   "source": [
    "Este proyecto consiste en localizar el planeta en el que se encuentra la nave."
   ]
  },
  {
   "attachments": {},
   "cell_type": "markdown",
   "metadata": {},
   "source": [
    "## Importaciones necesarias"
   ]
  },
  {
   "attachments": {},
   "cell_type": "markdown",
   "metadata": {},
   "source": [
    "Primeramente, comenzamos con la importación de las distintas librerías necesarias para la realización del ejercicio. Las librerías importadas son las siguientes:</br>\n",
    "- Panda: Librería dedicada a la manipulación y análisis de datos.</br>\n",
    "- Numpy: Librería dedicada a funciones matemáticas, también estadísticas siendo fundamentales para la resolución del ejercicio.</br>\n",
    "- Matplotlib: Librería capaz de realizar gráficos, diagramas, entre otros, es decir, es una biblioteca de visualización de datos. Para poder funcionar correctamente es necesario Numpy ya que lo utiliza para realizar distintos cálculos antes de realizar el grafico que se imprimirá. Se importa junto al módulo pyplot, que proporciona una interfaz simple para la creación y visualización de gráficos y datos.</br>\n",
    "- Plotly: Librería similar a Matplotlib, cumple la misma función. Sin embargo, estos gráficos que crean son interactivos. Se importa dentro de ella express, añadiendo la posibilidad de crear gráficos de área, puntos, entre otros, necesarios para la realización de las rectas de regresión lineal.</br>"
   ]
  },
  {
   "cell_type": "code",
   "execution_count": 143,
   "metadata": {},
   "outputs": [
    {
     "name": "stdout",
     "output_type": "stream",
     "text": [
      "Setup complete\n"
     ]
    }
   ],
   "source": [
    "# Importación de las librerias\n",
    "import pandas as pd\n",
    "import numpy as np\n",
    "import matplotlib.pyplot as plt\n",
    "import plotly.express as px\n",
    "print(\"Setup complete\")"
   ]
  },
  {
   "attachments": {},
   "cell_type": "markdown",
   "metadata": {},
   "source": [
    "## Primera toma de contacto con los planetas"
   ]
  },
  {
   "attachments": {},
   "cell_type": "markdown",
   "metadata": {},
   "source": [
    "### Creación de los planetas"
   ]
  },
  {
   "attachments": {},
   "cell_type": "markdown",
   "metadata": {},
   "source": [
    "Los planetas tienen características similares, mismas variables, pero con distintos datos. Por ello, sería óptimo la creación de clases poniendo como variable la gravedad y nombre de cada uno de ellos. Para la definición de los planetas, se ha realizado un diccionario introduciendo como clave el nombre del planeta y valor su gravedad. Finalmente mediante un bucle se han introducido en una lista todos los planetas. </br>"
   ]
  },
  {
   "cell_type": "code",
   "execution_count": 144,
   "metadata": {},
   "outputs": [
    {
     "name": "stdout",
     "output_type": "stream",
     "text": [
      "Planetas cargados\n"
     ]
    }
   ],
   "source": [
    "class Planeta:\n",
    "    def __init__(self, nombre, g):\n",
    "        self.nombre = nombre\n",
    "        self.g = g\n",
    "\n",
    "planetas_dict = {'Tierra': 9.8 , 'Marte': 3.7, 'Jupiter': 24.8, 'Saturno': 9.0, 'Urano': 8.7, 'Neptuno': 11.0} # Posibles planetas\n",
    "planetas = [] # Planetas\n",
    "\n",
    "for nombre, g in planetas_dict.items(): # Carga de planetas\n",
    "    planetas.append(Planeta(nombre, g))\n",
    "\n",
    "\n",
    "print(\"Planetas cargados\")"
   ]
  },
  {
   "attachments": {},
   "cell_type": "markdown",
   "metadata": {},
   "source": [
    "Con los planetas ya generados se pasaría a la fase de la experimentación y a través de los ejercicios propuestos se descartarían algunos planetas. Aunque primero definimos las operaciones que se utilizarán para el cálculo del error y la gravedad mediante funciones.</br>"
   ]
  },
  {
   "attachments": {},
   "cell_type": "markdown",
   "metadata": {},
   "source": [
    "### Operaciones y búsqueda del planeta"
   ]
  },
  {
   "attachments": {},
   "cell_type": "markdown",
   "metadata": {},
   "source": [
    "#### Cálculo de la gravedad y el error"
   ]
  },
  {
   "attachments": {},
   "cell_type": "markdown",
   "metadata": {},
   "source": [
    "El enunciado proporciona la fórmula necesaria y además especifica el error de la longitud y tiempo.</br>"
   ]
  },
  {
   "cell_type": "code",
   "execution_count": 145,
   "metadata": {},
   "outputs": [],
   "source": [
    "# Operación de la simulación\n",
    "def simulacion(longitud, tiempo):\n",
    "    # CALCULO DE LA GRAVEDAD\n",
    "    g_calculado = (2 * longitud) / (tiempo**2)\n",
    "\n",
    "    # CALCULO DEL ERROR\n",
    "    L_error = 0.01 # VALOR YA DADO EN EL ENUNCIADO\n",
    "    t_error = 0.01 # VALOR YA DADO EN EL ENUNCIADO\n",
    "    dg_dL = 2 / tiempo**2 #Derivada parcial g respecto l\n",
    "    dg_dt = -4 * longitud / tiempo**3 #Derivada parcial g respecto t\n",
    "\n",
    "    g_error = np.sqrt((dg_dL * L_error)**2 + (dg_dt * t_error)**2)\n",
    "    return g_calculado, g_error"
   ]
  },
  {
   "attachments": {},
   "cell_type": "markdown",
   "metadata": {},
   "source": [
    "Definida las distintas operaciones para el cálculo de la gravedad y el error. Nos hace falta designar una función que permita mediante ese resultado analizar en que planetas estará y descartar algunos. Para ello, se establece una función que devuelve una lista tratada con un bucle que mediante un condicional certifique si el valor de las gravedades de todos los planetas se encuentra entre la nueva gravedad calculada mas y menos su error. </br>"
   ]
  },
  {
   "attachments": {},
   "cell_type": "markdown",
   "metadata": {},
   "source": [
    "#### Establecimiento de los posibles planetas"
   ]
  },
  {
   "cell_type": "code",
   "execution_count": 146,
   "metadata": {},
   "outputs": [],
   "source": [
    "def planeta_esperado(g_calculado, g_error):\n",
    "    for planeta in planetas:\n",
    "        if g_calculado - g_error <= planeta.g and planeta.g <= g_calculado + g_error:\n",
    "            return planeta\n",
    "    return None\n"
   ]
  },
  {
   "attachments": {},
   "cell_type": "markdown",
   "metadata": {},
   "source": [
    "## Resolución de los ejercicios propuestos"
   ]
  },
  {
   "cell_type": "code",
   "execution_count": 147,
   "metadata": {},
   "outputs": [
    {
     "name": "stdout",
     "output_type": "stream",
     "text": [
      "Experimento A\n",
      "- Gravedad calculada: 9.452 \n",
      "- Error calculado: 0.422 \n",
      "Experimento B\n",
      "- Gravedad calculada: 9.183 \n",
      "- Error calculado: 0.282 \n"
     ]
    }
   ],
   "source": [
    "experimento_a = simulacion(1, 0.46)\n",
    "print(\"Experimento A\")\n",
    "print(f\"- Gravedad calculada: {round(experimento_a[0],3)} \\n- Error calculado: {round(experimento_a[1],3)} \")\n",
    "experimento_b = simulacion(2, 0.66)\n",
    "print('Experimento B')\n",
    "print(f\"- Gravedad calculada: {round(experimento_b[0],3)} \\n- Error calculado: {round(experimento_b[1],3)} \")"
   ]
  },
  {
   "cell_type": "code",
   "execution_count": 148,
   "metadata": {},
   "outputs": [
    {
     "name": "stdout",
     "output_type": "stream",
     "text": [
      "El planeta se puede encontrar en alguno de los siguientes planetas: \n",
      "  - Tierra\n",
      "  - Saturno\n"
     ]
    }
   ],
   "source": [
    "experimento_a = planeta_esperado(experimento_a[0], experimento_a[1])\n",
    "\n",
    "experimento_b = planeta_esperado(experimento_b[0], experimento_b[1])\n",
    "\n",
    "if experimento_a is None or experimento_b is None:\n",
    "    print(\"No se pudo determinar el planeta en el que se encuentra la nave.\")\n",
    "else:\n",
    "    if experimento_a == experimento_b:\n",
    "        print(\"El planeta en el que se encuentra la nave se trata de \", experimento_a.nombre)\n",
    "    else:\n",
    "        planetas_probables = []\n",
    "        planetas_probables.append(experimento_a.nombre)\n",
    "        planetas_probables.append(experimento_b.nombre)\n",
    "        print(\"El planeta se puede encontrar en alguno de los siguientes planetas: \")\n",
    "        for planeta in planetas_probables:\n",
    "            print('  -', planeta)"
   ]
  },
  {
   "attachments": {},
   "cell_type": "markdown",
   "metadata": {},
   "source": [
    "A continuación, la lista se nos ha reducido a 2 posibles planetas por lo tanto comencemos dataset."
   ]
  },
  {
   "attachments": {},
   "cell_type": "markdown",
   "metadata": {},
   "source": [
    "## Creación del DataSet"
   ]
  },
  {
   "attachments": {},
   "cell_type": "markdown",
   "metadata": {},
   "source": [
    "El objetivo será realizar un dataset con distintos valores de longitud y tiempo y a partir de ahí calcular su error y gravedad a través de la anterior función. Tras ello, ejecutar el método anterior para averiguar en todos los posibles planetas y decidir finalmente en cual estará.</br>"
   ]
  },
  {
   "attachments": {},
   "cell_type": "markdown",
   "metadata": {},
   "source": [
    "### Creacion de distintos instantes de tiempo y longitudes"
   ]
  },
  {
   "attachments": {},
   "cell_type": "markdown",
   "metadata": {},
   "source": [
    "Se ha realizado una gráfica, SE HA SUPUESTO que la gravedad es lineal, no cuadrática que es como sería en la realidad. Para ello, se ha creado un DataFrame con los valores dados por los problemas propuestos. Mediante el uso de numpy, se ha hallado los distintos coeficientes de la recta: y=mx+n. Tras ello mediante plotly se ha creado primero la gráfica con eje x: tiempo; eje y= longitud. Mediante la función add_trace se añade la recta.</br>"
   ]
  },
  {
   "cell_type": "code",
   "execution_count": 149,
   "metadata": {},
   "outputs": [
    {
     "data": {
      "application/vnd.plotly.v1+json": {
       "config": {
        "plotlyServerURL": "https://plot.ly"
       },
       "data": [
        {
         "hovertemplate": "tiempo=%{x}<br>longitud=%{y}<extra></extra>",
         "legendgroup": "",
         "marker": {
          "color": "#636efa",
          "symbol": "circle"
         },
         "mode": "markers",
         "name": "",
         "orientation": "v",
         "showlegend": false,
         "type": "scatter",
         "x": [
          0.46,
          0.66
         ],
         "xaxis": "x",
         "y": [
          1,
          2
         ],
         "yaxis": "y"
        },
        {
         "hovertemplate": "x=%{x}<br>y=%{y}<extra></extra>",
         "legendgroup": "",
         "line": {
          "color": "#636efa",
          "dash": "solid"
         },
         "marker": {
          "symbol": "circle"
         },
         "mode": "lines",
         "name": "",
         "orientation": "v",
         "showlegend": false,
         "type": "scatter",
         "x": [
          0.46,
          0.66
         ],
         "xaxis": "x",
         "y": [
          1,
          2
         ],
         "yaxis": "y"
        }
       ],
       "layout": {
        "legend": {
         "tracegroupgap": 0
        },
        "margin": {
         "t": 60
        },
        "template": {
         "data": {
          "bar": [
           {
            "error_x": {
             "color": "#2a3f5f"
            },
            "error_y": {
             "color": "#2a3f5f"
            },
            "marker": {
             "line": {
              "color": "#E5ECF6",
              "width": 0.5
             },
             "pattern": {
              "fillmode": "overlay",
              "size": 10,
              "solidity": 0.2
             }
            },
            "type": "bar"
           }
          ],
          "barpolar": [
           {
            "marker": {
             "line": {
              "color": "#E5ECF6",
              "width": 0.5
             },
             "pattern": {
              "fillmode": "overlay",
              "size": 10,
              "solidity": 0.2
             }
            },
            "type": "barpolar"
           }
          ],
          "carpet": [
           {
            "aaxis": {
             "endlinecolor": "#2a3f5f",
             "gridcolor": "white",
             "linecolor": "white",
             "minorgridcolor": "white",
             "startlinecolor": "#2a3f5f"
            },
            "baxis": {
             "endlinecolor": "#2a3f5f",
             "gridcolor": "white",
             "linecolor": "white",
             "minorgridcolor": "white",
             "startlinecolor": "#2a3f5f"
            },
            "type": "carpet"
           }
          ],
          "choropleth": [
           {
            "colorbar": {
             "outlinewidth": 0,
             "ticks": ""
            },
            "type": "choropleth"
           }
          ],
          "contour": [
           {
            "colorbar": {
             "outlinewidth": 0,
             "ticks": ""
            },
            "colorscale": [
             [
              0,
              "#0d0887"
             ],
             [
              0.1111111111111111,
              "#46039f"
             ],
             [
              0.2222222222222222,
              "#7201a8"
             ],
             [
              0.3333333333333333,
              "#9c179e"
             ],
             [
              0.4444444444444444,
              "#bd3786"
             ],
             [
              0.5555555555555556,
              "#d8576b"
             ],
             [
              0.6666666666666666,
              "#ed7953"
             ],
             [
              0.7777777777777778,
              "#fb9f3a"
             ],
             [
              0.8888888888888888,
              "#fdca26"
             ],
             [
              1,
              "#f0f921"
             ]
            ],
            "type": "contour"
           }
          ],
          "contourcarpet": [
           {
            "colorbar": {
             "outlinewidth": 0,
             "ticks": ""
            },
            "type": "contourcarpet"
           }
          ],
          "heatmap": [
           {
            "colorbar": {
             "outlinewidth": 0,
             "ticks": ""
            },
            "colorscale": [
             [
              0,
              "#0d0887"
             ],
             [
              0.1111111111111111,
              "#46039f"
             ],
             [
              0.2222222222222222,
              "#7201a8"
             ],
             [
              0.3333333333333333,
              "#9c179e"
             ],
             [
              0.4444444444444444,
              "#bd3786"
             ],
             [
              0.5555555555555556,
              "#d8576b"
             ],
             [
              0.6666666666666666,
              "#ed7953"
             ],
             [
              0.7777777777777778,
              "#fb9f3a"
             ],
             [
              0.8888888888888888,
              "#fdca26"
             ],
             [
              1,
              "#f0f921"
             ]
            ],
            "type": "heatmap"
           }
          ],
          "heatmapgl": [
           {
            "colorbar": {
             "outlinewidth": 0,
             "ticks": ""
            },
            "colorscale": [
             [
              0,
              "#0d0887"
             ],
             [
              0.1111111111111111,
              "#46039f"
             ],
             [
              0.2222222222222222,
              "#7201a8"
             ],
             [
              0.3333333333333333,
              "#9c179e"
             ],
             [
              0.4444444444444444,
              "#bd3786"
             ],
             [
              0.5555555555555556,
              "#d8576b"
             ],
             [
              0.6666666666666666,
              "#ed7953"
             ],
             [
              0.7777777777777778,
              "#fb9f3a"
             ],
             [
              0.8888888888888888,
              "#fdca26"
             ],
             [
              1,
              "#f0f921"
             ]
            ],
            "type": "heatmapgl"
           }
          ],
          "histogram": [
           {
            "marker": {
             "pattern": {
              "fillmode": "overlay",
              "size": 10,
              "solidity": 0.2
             }
            },
            "type": "histogram"
           }
          ],
          "histogram2d": [
           {
            "colorbar": {
             "outlinewidth": 0,
             "ticks": ""
            },
            "colorscale": [
             [
              0,
              "#0d0887"
             ],
             [
              0.1111111111111111,
              "#46039f"
             ],
             [
              0.2222222222222222,
              "#7201a8"
             ],
             [
              0.3333333333333333,
              "#9c179e"
             ],
             [
              0.4444444444444444,
              "#bd3786"
             ],
             [
              0.5555555555555556,
              "#d8576b"
             ],
             [
              0.6666666666666666,
              "#ed7953"
             ],
             [
              0.7777777777777778,
              "#fb9f3a"
             ],
             [
              0.8888888888888888,
              "#fdca26"
             ],
             [
              1,
              "#f0f921"
             ]
            ],
            "type": "histogram2d"
           }
          ],
          "histogram2dcontour": [
           {
            "colorbar": {
             "outlinewidth": 0,
             "ticks": ""
            },
            "colorscale": [
             [
              0,
              "#0d0887"
             ],
             [
              0.1111111111111111,
              "#46039f"
             ],
             [
              0.2222222222222222,
              "#7201a8"
             ],
             [
              0.3333333333333333,
              "#9c179e"
             ],
             [
              0.4444444444444444,
              "#bd3786"
             ],
             [
              0.5555555555555556,
              "#d8576b"
             ],
             [
              0.6666666666666666,
              "#ed7953"
             ],
             [
              0.7777777777777778,
              "#fb9f3a"
             ],
             [
              0.8888888888888888,
              "#fdca26"
             ],
             [
              1,
              "#f0f921"
             ]
            ],
            "type": "histogram2dcontour"
           }
          ],
          "mesh3d": [
           {
            "colorbar": {
             "outlinewidth": 0,
             "ticks": ""
            },
            "type": "mesh3d"
           }
          ],
          "parcoords": [
           {
            "line": {
             "colorbar": {
              "outlinewidth": 0,
              "ticks": ""
             }
            },
            "type": "parcoords"
           }
          ],
          "pie": [
           {
            "automargin": true,
            "type": "pie"
           }
          ],
          "scatter": [
           {
            "fillpattern": {
             "fillmode": "overlay",
             "size": 10,
             "solidity": 0.2
            },
            "type": "scatter"
           }
          ],
          "scatter3d": [
           {
            "line": {
             "colorbar": {
              "outlinewidth": 0,
              "ticks": ""
             }
            },
            "marker": {
             "colorbar": {
              "outlinewidth": 0,
              "ticks": ""
             }
            },
            "type": "scatter3d"
           }
          ],
          "scattercarpet": [
           {
            "marker": {
             "colorbar": {
              "outlinewidth": 0,
              "ticks": ""
             }
            },
            "type": "scattercarpet"
           }
          ],
          "scattergeo": [
           {
            "marker": {
             "colorbar": {
              "outlinewidth": 0,
              "ticks": ""
             }
            },
            "type": "scattergeo"
           }
          ],
          "scattergl": [
           {
            "marker": {
             "colorbar": {
              "outlinewidth": 0,
              "ticks": ""
             }
            },
            "type": "scattergl"
           }
          ],
          "scattermapbox": [
           {
            "marker": {
             "colorbar": {
              "outlinewidth": 0,
              "ticks": ""
             }
            },
            "type": "scattermapbox"
           }
          ],
          "scatterpolar": [
           {
            "marker": {
             "colorbar": {
              "outlinewidth": 0,
              "ticks": ""
             }
            },
            "type": "scatterpolar"
           }
          ],
          "scatterpolargl": [
           {
            "marker": {
             "colorbar": {
              "outlinewidth": 0,
              "ticks": ""
             }
            },
            "type": "scatterpolargl"
           }
          ],
          "scatterternary": [
           {
            "marker": {
             "colorbar": {
              "outlinewidth": 0,
              "ticks": ""
             }
            },
            "type": "scatterternary"
           }
          ],
          "surface": [
           {
            "colorbar": {
             "outlinewidth": 0,
             "ticks": ""
            },
            "colorscale": [
             [
              0,
              "#0d0887"
             ],
             [
              0.1111111111111111,
              "#46039f"
             ],
             [
              0.2222222222222222,
              "#7201a8"
             ],
             [
              0.3333333333333333,
              "#9c179e"
             ],
             [
              0.4444444444444444,
              "#bd3786"
             ],
             [
              0.5555555555555556,
              "#d8576b"
             ],
             [
              0.6666666666666666,
              "#ed7953"
             ],
             [
              0.7777777777777778,
              "#fb9f3a"
             ],
             [
              0.8888888888888888,
              "#fdca26"
             ],
             [
              1,
              "#f0f921"
             ]
            ],
            "type": "surface"
           }
          ],
          "table": [
           {
            "cells": {
             "fill": {
              "color": "#EBF0F8"
             },
             "line": {
              "color": "white"
             }
            },
            "header": {
             "fill": {
              "color": "#C8D4E3"
             },
             "line": {
              "color": "white"
             }
            },
            "type": "table"
           }
          ]
         },
         "layout": {
          "annotationdefaults": {
           "arrowcolor": "#2a3f5f",
           "arrowhead": 0,
           "arrowwidth": 1
          },
          "autotypenumbers": "strict",
          "coloraxis": {
           "colorbar": {
            "outlinewidth": 0,
            "ticks": ""
           }
          },
          "colorscale": {
           "diverging": [
            [
             0,
             "#8e0152"
            ],
            [
             0.1,
             "#c51b7d"
            ],
            [
             0.2,
             "#de77ae"
            ],
            [
             0.3,
             "#f1b6da"
            ],
            [
             0.4,
             "#fde0ef"
            ],
            [
             0.5,
             "#f7f7f7"
            ],
            [
             0.6,
             "#e6f5d0"
            ],
            [
             0.7,
             "#b8e186"
            ],
            [
             0.8,
             "#7fbc41"
            ],
            [
             0.9,
             "#4d9221"
            ],
            [
             1,
             "#276419"
            ]
           ],
           "sequential": [
            [
             0,
             "#0d0887"
            ],
            [
             0.1111111111111111,
             "#46039f"
            ],
            [
             0.2222222222222222,
             "#7201a8"
            ],
            [
             0.3333333333333333,
             "#9c179e"
            ],
            [
             0.4444444444444444,
             "#bd3786"
            ],
            [
             0.5555555555555556,
             "#d8576b"
            ],
            [
             0.6666666666666666,
             "#ed7953"
            ],
            [
             0.7777777777777778,
             "#fb9f3a"
            ],
            [
             0.8888888888888888,
             "#fdca26"
            ],
            [
             1,
             "#f0f921"
            ]
           ],
           "sequentialminus": [
            [
             0,
             "#0d0887"
            ],
            [
             0.1111111111111111,
             "#46039f"
            ],
            [
             0.2222222222222222,
             "#7201a8"
            ],
            [
             0.3333333333333333,
             "#9c179e"
            ],
            [
             0.4444444444444444,
             "#bd3786"
            ],
            [
             0.5555555555555556,
             "#d8576b"
            ],
            [
             0.6666666666666666,
             "#ed7953"
            ],
            [
             0.7777777777777778,
             "#fb9f3a"
            ],
            [
             0.8888888888888888,
             "#fdca26"
            ],
            [
             1,
             "#f0f921"
            ]
           ]
          },
          "colorway": [
           "#636efa",
           "#EF553B",
           "#00cc96",
           "#ab63fa",
           "#FFA15A",
           "#19d3f3",
           "#FF6692",
           "#B6E880",
           "#FF97FF",
           "#FECB52"
          ],
          "font": {
           "color": "#2a3f5f"
          },
          "geo": {
           "bgcolor": "white",
           "lakecolor": "white",
           "landcolor": "#E5ECF6",
           "showlakes": true,
           "showland": true,
           "subunitcolor": "white"
          },
          "hoverlabel": {
           "align": "left"
          },
          "hovermode": "closest",
          "mapbox": {
           "style": "light"
          },
          "paper_bgcolor": "white",
          "plot_bgcolor": "#E5ECF6",
          "polar": {
           "angularaxis": {
            "gridcolor": "white",
            "linecolor": "white",
            "ticks": ""
           },
           "bgcolor": "#E5ECF6",
           "radialaxis": {
            "gridcolor": "white",
            "linecolor": "white",
            "ticks": ""
           }
          },
          "scene": {
           "xaxis": {
            "backgroundcolor": "#E5ECF6",
            "gridcolor": "white",
            "gridwidth": 2,
            "linecolor": "white",
            "showbackground": true,
            "ticks": "",
            "zerolinecolor": "white"
           },
           "yaxis": {
            "backgroundcolor": "#E5ECF6",
            "gridcolor": "white",
            "gridwidth": 2,
            "linecolor": "white",
            "showbackground": true,
            "ticks": "",
            "zerolinecolor": "white"
           },
           "zaxis": {
            "backgroundcolor": "#E5ECF6",
            "gridcolor": "white",
            "gridwidth": 2,
            "linecolor": "white",
            "showbackground": true,
            "ticks": "",
            "zerolinecolor": "white"
           }
          },
          "shapedefaults": {
           "line": {
            "color": "#2a3f5f"
           }
          },
          "ternary": {
           "aaxis": {
            "gridcolor": "white",
            "linecolor": "white",
            "ticks": ""
           },
           "baxis": {
            "gridcolor": "white",
            "linecolor": "white",
            "ticks": ""
           },
           "bgcolor": "#E5ECF6",
           "caxis": {
            "gridcolor": "white",
            "linecolor": "white",
            "ticks": ""
           }
          },
          "title": {
           "x": 0.05
          },
          "xaxis": {
           "automargin": true,
           "gridcolor": "white",
           "linecolor": "white",
           "ticks": "",
           "title": {
            "standoff": 15
           },
           "zerolinecolor": "white",
           "zerolinewidth": 2
          },
          "yaxis": {
           "automargin": true,
           "gridcolor": "white",
           "linecolor": "white",
           "ticks": "",
           "title": {
            "standoff": 15
           },
           "zerolinecolor": "white",
           "zerolinewidth": 2
          }
         }
        },
        "xaxis": {
         "anchor": "y",
         "domain": [
          0,
          1
         ],
         "title": {
          "text": "tiempo"
         }
        },
        "yaxis": {
         "anchor": "x",
         "domain": [
          0,
          1
         ],
         "title": {
          "text": "longitud"
         }
        }
       }
      }
     },
     "metadata": {},
     "output_type": "display_data"
    }
   ],
   "source": [
    "df_recta = pd.DataFrame({'tiempo': [0.46, 0.66], 'longitud': [1,2]})\n",
    "coeficientes = np.polyfit(df_recta['tiempo'], df_recta['longitud'], 1) # polyfit(x, y, degree) sirve para calcular los coeficientes de la ecuación de la recta (y = mx + b)\n",
    "m = coeficientes[0]\n",
    "n = coeficientes[1]\n",
    "fig = px.scatter(df_recta, x='tiempo', y='longitud') # Crear una gráfica de dispersión\n",
    "fig.add_trace(px.line(x=df_recta['tiempo'], y=m*df_recta['tiempo'] + n).data[0]) # Añadir la recta a la gráfica de dispersión\n",
    "fig.show()"
   ]
  },
  {
   "attachments": {},
   "cell_type": "markdown",
   "metadata": {},
   "source": [
    "Esta gráfica ha sido realizada para no coger datos atípicos como podría ser: L = 30; t = 0'3. A continuación, se seleccionarán algunos de los infinitos puntos que contiene la recta y se obtendrán valores para la longitud y tiempo.</br>\n",
    "\n",
    "Para poder realizar lo anteriormente mencionado, mediante la opción de linspace de numpy, estableciendo el principio, el tope y el número de puntos que quieres obtener, se generan valores equidistantes entre el principio y el tope. Para calcular la y, se escribe la ecuación de la recta. Mediante un bucle se van añadiendo esos valores a una lista que serán añadidos al dataframe creado y redondeados a la milésima.</br>"
   ]
  },
  {
   "cell_type": "code",
   "execution_count": 150,
   "metadata": {},
   "outputs": [
    {
     "name": "stdout",
     "output_type": "stream",
     "text": [
      "5.0\n"
     ]
    },
    {
     "data": {
      "text/html": [
       "<div>\n",
       "<style scoped>\n",
       "    .dataframe tbody tr th:only-of-type {\n",
       "        vertical-align: middle;\n",
       "    }\n",
       "\n",
       "    .dataframe tbody tr th {\n",
       "        vertical-align: top;\n",
       "    }\n",
       "\n",
       "    .dataframe thead th {\n",
       "        text-align: right;\n",
       "    }\n",
       "</style>\n",
       "<table border=\"1\" class=\"dataframe\">\n",
       "  <thead>\n",
       "    <tr style=\"text-align: right;\">\n",
       "      <th></th>\n",
       "      <th>tiempo</th>\n",
       "      <th>longitud</th>\n",
       "    </tr>\n",
       "  </thead>\n",
       "  <tbody>\n",
       "    <tr>\n",
       "      <th>0</th>\n",
       "      <td>0.460</td>\n",
       "      <td>1.000</td>\n",
       "    </tr>\n",
       "    <tr>\n",
       "      <th>1</th>\n",
       "      <td>0.461</td>\n",
       "      <td>1.004</td>\n",
       "    </tr>\n",
       "    <tr>\n",
       "      <th>2</th>\n",
       "      <td>0.462</td>\n",
       "      <td>1.008</td>\n",
       "    </tr>\n",
       "  </tbody>\n",
       "</table>\n",
       "</div>"
      ],
      "text/plain": [
       "   tiempo  longitud\n",
       "0   0.460     1.000\n",
       "1   0.461     1.004\n",
       "2   0.462     1.008"
      ]
     },
     "execution_count": 150,
     "metadata": {},
     "output_type": "execute_result"
    }
   ],
   "source": [
    "# PENDIENTE\n",
    "m =(df_recta['longitud'][1] - df_recta['longitud'][0] )/ (df_recta['tiempo'][1] - df_recta['tiempo'][0])\n",
    "print(m)\n",
    "\n",
    "# ORDENADA EN EL ORIGEN\n",
    "n = df_recta['longitud'][0] - m * df_recta['tiempo'][0]\n",
    "\n",
    "# CALCULO DE TIEMPOS/LONGITUDES\n",
    "x = np.linspace(0.46, 0.66, 250)\n",
    "y = m*x + n\n",
    "\n",
    "data = []\n",
    "for i in range(len(x)):\n",
    "    data.append({'tiempo': x[i], 'longitud': y[i]})\n",
    "\n",
    "\n",
    "df_recta = pd.DataFrame(data)\n",
    "df_recta = df_recta.round(3)\n",
    "df_recta.head(3)"
   ]
  },
  {
   "attachments": {},
   "cell_type": "markdown",
   "metadata": {},
   "source": [
    "Recalcamos que todos los valores de las columnas deben de ser tipo float, debido a que se tratan de números decimales.</br>"
   ]
  },
  {
   "cell_type": "code",
   "execution_count": 151,
   "metadata": {},
   "outputs": [
    {
     "data": {
      "text/plain": [
       "tiempo      float64\n",
       "longitud    float64\n",
       "dtype: object"
      ]
     },
     "execution_count": 151,
     "metadata": {},
     "output_type": "execute_result"
    }
   ],
   "source": [
    "df_recta.astype(float)\n",
    "df_recta.dtypes"
   ]
  },
  {
   "attachments": {},
   "cell_type": "markdown",
   "metadata": {},
   "source": [
    "**COMPROBACIÓN PUNTOS HALLADOS EN LA RECTA DE MANERA GRÁFICA**"
   ]
  },
  {
   "attachments": {},
   "cell_type": "markdown",
   "metadata": {},
   "source": [
    "En este caso, se realizará una gráfica con todos los datos del dataframe y serán colocado en el gráfico anterior para comprobar que son puntos de la recta. En este caso, usaremos la libreria Matplotlib."
   ]
  },
  {
   "cell_type": "code",
   "execution_count": 152,
   "metadata": {},
   "outputs": [
    {
     "data": {
      "image/png": "[encoded data removed]",
      "text/plain": [
       "<Figure size 640x480 with 1 Axes>"
      ]
     },
     "metadata": {},
     "output_type": "display_data"
    }
   ],
   "source": [
    "\n",
    "# CREACIÓN DE LA GRÁFICA\n",
    "plt.plot(df_recta['tiempo'], df_recta['longitud'], 'o', label='Datos', color = 'green') # plot(x, y, format): format siendo el color y el tipo de línea\n",
    "\n",
    "# CREACIÓN DE LA RECTA\n",
    "plt.plot(df_recta['tiempo'], m * df_recta['tiempo'] + n, '-', label='Recta de ajuste', color='red')\n",
    "\n",
    "# REALIZACIÓN DE LOS COMPLEMENTOS DE LA GRÁFICA: Título, nombres de los ejes y leyenda\n",
    "plt.title('Gráfica: Longitud/Tiempo')\n",
    "plt.xlabel('Tiempo')\n",
    "plt.ylabel('Longitud')\n",
    "plt.legend()\n",
    "\n",
    "\n",
    "plt.show()"
   ]
  },
  {
   "attachments": {},
   "cell_type": "markdown",
   "metadata": {},
   "source": [
    "### Cálculo de la gravedad y el error"
   ]
  },
  {
   "attachments": {},
   "cell_type": "markdown",
   "metadata": {},
   "source": [
    "Con los tiempos y longitudes ya podemos empezar a determinar el error y la gravedad. Para ello, crearemos dos listas en las cuales mediante un bucle se irán añadiendo los cálculos del error y gravedad a sus correspondientes listas. Tras ello, serán añadidas al dataframe creado anteriormente. </br>"
   ]
  },
  {
   "cell_type": "code",
   "execution_count": 153,
   "metadata": {},
   "outputs": [],
   "source": [
    "g_calculado = []\n",
    "g_error = []\n",
    "for i in range(len(df_recta)):\n",
    "    g = simulacion(df_recta['longitud'][i], df_recta['tiempo'][i])\n",
    "    g_calculado.append(g[0])\n",
    "    g_error.append(g[1])\n",
    "df_recta['g_calculado'] = g_calculado\n",
    "df_recta['g_error'] = g_error"
   ]
  },
  {
   "attachments": {},
   "cell_type": "markdown",
   "metadata": {},
   "source": [
    "A continuacuón, imprimimos las primeras 5 columnas del dataframe para verlo y posteriormente crearemos un csv para guardarlo.</br>"
   ]
  },
  {
   "cell_type": "code",
   "execution_count": 154,
   "metadata": {},
   "outputs": [
    {
     "data": {
      "text/html": [
       "<div>\n",
       "<style scoped>\n",
       "    .dataframe tbody tr th:only-of-type {\n",
       "        vertical-align: middle;\n",
       "    }\n",
       "\n",
       "    .dataframe tbody tr th {\n",
       "        vertical-align: top;\n",
       "    }\n",
       "\n",
       "    .dataframe thead th {\n",
       "        text-align: right;\n",
       "    }\n",
       "</style>\n",
       "<table border=\"1\" class=\"dataframe\">\n",
       "  <thead>\n",
       "    <tr style=\"text-align: right;\">\n",
       "      <th></th>\n",
       "      <th>tiempo</th>\n",
       "      <th>longitud</th>\n",
       "      <th>g_calculado</th>\n",
       "      <th>g_error</th>\n",
       "    </tr>\n",
       "  </thead>\n",
       "  <tbody>\n",
       "    <tr>\n",
       "      <th>0</th>\n",
       "      <td>0.460</td>\n",
       "      <td>1.000</td>\n",
       "      <td>9.451796</td>\n",
       "      <td>0.421677</td>\n",
       "    </tr>\n",
       "    <tr>\n",
       "      <th>1</th>\n",
       "      <td>0.461</td>\n",
       "      <td>1.004</td>\n",
       "      <td>9.448478</td>\n",
       "      <td>0.420576</td>\n",
       "    </tr>\n",
       "    <tr>\n",
       "      <th>2</th>\n",
       "      <td>0.462</td>\n",
       "      <td>1.008</td>\n",
       "      <td>9.445100</td>\n",
       "      <td>0.419478</td>\n",
       "    </tr>\n",
       "    <tr>\n",
       "      <th>3</th>\n",
       "      <td>0.462</td>\n",
       "      <td>1.012</td>\n",
       "      <td>9.482581</td>\n",
       "      <td>0.421060</td>\n",
       "    </tr>\n",
       "    <tr>\n",
       "      <th>4</th>\n",
       "      <td>0.463</td>\n",
       "      <td>1.016</td>\n",
       "      <td>9.478983</td>\n",
       "      <td>0.419954</td>\n",
       "    </tr>\n",
       "  </tbody>\n",
       "</table>\n",
       "</div>"
      ],
      "text/plain": [
       "   tiempo  longitud  g_calculado   g_error\n",
       "0   0.460     1.000     9.451796  0.421677\n",
       "1   0.461     1.004     9.448478  0.420576\n",
       "2   0.462     1.008     9.445100  0.419478\n",
       "3   0.462     1.012     9.482581  0.421060\n",
       "4   0.463     1.016     9.478983  0.419954"
      ]
     },
     "execution_count": 154,
     "metadata": {},
     "output_type": "execute_result"
    }
   ],
   "source": [
    "df_recta.head(5)"
   ]
  },
  {
   "cell_type": "code",
   "execution_count": 155,
   "metadata": {},
   "outputs": [],
   "source": [
    "df_recta.to_csv('data/data_no_faker.csv') # CREACIÓN DE UN CSV"
   ]
  },
  {
   "attachments": {},
   "cell_type": "markdown",
   "metadata": {},
   "source": [
    "### Posible planeta"
   ]
  },
  {
   "attachments": {},
   "cell_type": "markdown",
   "metadata": {},
   "source": [
    "Tras todo lo realizado, ya se han obtenido todos los datos necesarios para calcular la gravedad y poder finalmente usar la función 'planetas_esperado' para obtener el planeta. Pero antes de eso, se realizará una copia del dataframe anterior para no modificarlo.</br>"
   ]
  },
  {
   "cell_type": "code",
   "execution_count": 156,
   "metadata": {},
   "outputs": [],
   "source": [
    "df_recta_1 = df_recta.copy()"
   ]
  },
  {
   "attachments": {},
   "cell_type": "markdown",
   "metadata": {},
   "source": [
    "Mediante un bucle ejecutamos la función definida al principio para averiguar el planeta en el que se encuentre. En el caso en el que no sea de ningún planeta, se devolverá un valor vacío que posteriormente será eliminado.</br>"
   ]
  },
  {
   "cell_type": "code",
   "execution_count": 157,
   "metadata": {},
   "outputs": [],
   "source": [
    "planeta_pos = []\n",
    "for i in range(len(df_recta_1)):\n",
    "    planeta = planeta_esperado(df_recta_1['g_calculado'][i], df_recta_1['g_error'][i])\n",
    "    if planeta is not None:\n",
    "        planeta_pos.append(planeta.nombre)\n",
    "    else:\n",
    "        planeta_pos.append('')\n",
    "df_recta_1['planeta'] = planeta_pos\n",
    "df_recta_1['planeta'] = df_recta_1['planeta'].astype(str)\n",
    "\n"
   ]
  },
  {
   "cell_type": "code",
   "execution_count": 158,
   "metadata": {},
   "outputs": [
    {
     "data": {
      "text/html": [
       "<div>\n",
       "<style scoped>\n",
       "    .dataframe tbody tr th:only-of-type {\n",
       "        vertical-align: middle;\n",
       "    }\n",
       "\n",
       "    .dataframe tbody tr th {\n",
       "        vertical-align: top;\n",
       "    }\n",
       "\n",
       "    .dataframe thead th {\n",
       "        text-align: right;\n",
       "    }\n",
       "</style>\n",
       "<table border=\"1\" class=\"dataframe\">\n",
       "  <thead>\n",
       "    <tr style=\"text-align: right;\">\n",
       "      <th></th>\n",
       "      <th>tiempo</th>\n",
       "      <th>longitud</th>\n",
       "      <th>g_calculado</th>\n",
       "      <th>g_error</th>\n",
       "      <th>planeta</th>\n",
       "    </tr>\n",
       "  </thead>\n",
       "  <tbody>\n",
       "    <tr>\n",
       "      <th>0</th>\n",
       "      <td>0.460</td>\n",
       "      <td>1.000</td>\n",
       "      <td>9.451796</td>\n",
       "      <td>0.421677</td>\n",
       "      <td>Tierra</td>\n",
       "    </tr>\n",
       "    <tr>\n",
       "      <th>1</th>\n",
       "      <td>0.461</td>\n",
       "      <td>1.004</td>\n",
       "      <td>9.448478</td>\n",
       "      <td>0.420576</td>\n",
       "      <td>Tierra</td>\n",
       "    </tr>\n",
       "    <tr>\n",
       "      <th>2</th>\n",
       "      <td>0.462</td>\n",
       "      <td>1.008</td>\n",
       "      <td>9.445100</td>\n",
       "      <td>0.419478</td>\n",
       "      <td>Tierra</td>\n",
       "    </tr>\n",
       "    <tr>\n",
       "      <th>3</th>\n",
       "      <td>0.462</td>\n",
       "      <td>1.012</td>\n",
       "      <td>9.482581</td>\n",
       "      <td>0.421060</td>\n",
       "      <td>Tierra</td>\n",
       "    </tr>\n",
       "    <tr>\n",
       "      <th>4</th>\n",
       "      <td>0.463</td>\n",
       "      <td>1.016</td>\n",
       "      <td>9.478983</td>\n",
       "      <td>0.419954</td>\n",
       "      <td>Tierra</td>\n",
       "    </tr>\n",
       "    <tr>\n",
       "      <th>...</th>\n",
       "      <td>...</td>\n",
       "      <td>...</td>\n",
       "      <td>...</td>\n",
       "      <td>...</td>\n",
       "      <td>...</td>\n",
       "    </tr>\n",
       "    <tr>\n",
       "      <th>95</th>\n",
       "      <td>0.536</td>\n",
       "      <td>1.382</td>\n",
       "      <td>9.620740</td>\n",
       "      <td>0.365670</td>\n",
       "      <td>Tierra</td>\n",
       "    </tr>\n",
       "    <tr>\n",
       "      <th>96</th>\n",
       "      <td>0.537</td>\n",
       "      <td>1.386</td>\n",
       "      <td>9.612684</td>\n",
       "      <td>0.364670</td>\n",
       "      <td>Tierra</td>\n",
       "    </tr>\n",
       "    <tr>\n",
       "      <th>97</th>\n",
       "      <td>0.538</td>\n",
       "      <td>1.390</td>\n",
       "      <td>9.604621</td>\n",
       "      <td>0.363674</td>\n",
       "      <td>Tierra</td>\n",
       "    </tr>\n",
       "    <tr>\n",
       "      <th>98</th>\n",
       "      <td>0.539</td>\n",
       "      <td>1.394</td>\n",
       "      <td>9.596552</td>\n",
       "      <td>0.362681</td>\n",
       "      <td>Tierra</td>\n",
       "    </tr>\n",
       "    <tr>\n",
       "      <th>99</th>\n",
       "      <td>0.540</td>\n",
       "      <td>1.398</td>\n",
       "      <td>9.588477</td>\n",
       "      <td>0.361691</td>\n",
       "      <td>Tierra</td>\n",
       "    </tr>\n",
       "  </tbody>\n",
       "</table>\n",
       "<p>100 rows × 5 columns</p>\n",
       "</div>"
      ],
      "text/plain": [
       "    tiempo  longitud  g_calculado   g_error planeta\n",
       "0    0.460     1.000     9.451796  0.421677  Tierra\n",
       "1    0.461     1.004     9.448478  0.420576  Tierra\n",
       "2    0.462     1.008     9.445100  0.419478  Tierra\n",
       "3    0.462     1.012     9.482581  0.421060  Tierra\n",
       "4    0.463     1.016     9.478983  0.419954  Tierra\n",
       "..     ...       ...          ...       ...     ...\n",
       "95   0.536     1.382     9.620740  0.365670  Tierra\n",
       "96   0.537     1.386     9.612684  0.364670  Tierra\n",
       "97   0.538     1.390     9.604621  0.363674  Tierra\n",
       "98   0.539     1.394     9.596552  0.362681  Tierra\n",
       "99   0.540     1.398     9.588477  0.361691  Tierra\n",
       "\n",
       "[100 rows x 5 columns]"
      ]
     },
     "execution_count": 158,
     "metadata": {},
     "output_type": "execute_result"
    }
   ],
   "source": [
    "df_recta_1.head(100)"
   ]
  },
  {
   "cell_type": "code",
   "execution_count": 159,
   "metadata": {},
   "outputs": [
    {
     "data": {
      "text/html": [
       "<div>\n",
       "<style scoped>\n",
       "    .dataframe tbody tr th:only-of-type {\n",
       "        vertical-align: middle;\n",
       "    }\n",
       "\n",
       "    .dataframe tbody tr th {\n",
       "        vertical-align: top;\n",
       "    }\n",
       "\n",
       "    .dataframe thead th {\n",
       "        text-align: right;\n",
       "    }\n",
       "</style>\n",
       "<table border=\"1\" class=\"dataframe\">\n",
       "  <thead>\n",
       "    <tr style=\"text-align: right;\">\n",
       "      <th></th>\n",
       "      <th>tiempo</th>\n",
       "      <th>longitud</th>\n",
       "      <th>g_calculado</th>\n",
       "      <th>g_error</th>\n",
       "    </tr>\n",
       "  </thead>\n",
       "  <tbody>\n",
       "    <tr>\n",
       "      <th>count</th>\n",
       "      <td>250.000000</td>\n",
       "      <td>250.000000</td>\n",
       "      <td>250.000000</td>\n",
       "      <td>250.000000</td>\n",
       "    </tr>\n",
       "    <tr>\n",
       "      <th>mean</th>\n",
       "      <td>0.560000</td>\n",
       "      <td>1.500000</td>\n",
       "      <td>9.486044</td>\n",
       "      <td>0.349169</td>\n",
       "    </tr>\n",
       "    <tr>\n",
       "      <th>std</th>\n",
       "      <td>0.058085</td>\n",
       "      <td>0.290454</td>\n",
       "      <td>0.125573</td>\n",
       "      <td>0.041153</td>\n",
       "    </tr>\n",
       "    <tr>\n",
       "      <th>min</th>\n",
       "      <td>0.460000</td>\n",
       "      <td>1.000000</td>\n",
       "      <td>9.182736</td>\n",
       "      <td>0.282027</td>\n",
       "    </tr>\n",
       "    <tr>\n",
       "      <th>25%</th>\n",
       "      <td>0.510250</td>\n",
       "      <td>1.250000</td>\n",
       "      <td>9.405672</td>\n",
       "      <td>0.313252</td>\n",
       "    </tr>\n",
       "    <tr>\n",
       "      <th>50%</th>\n",
       "      <td>0.560000</td>\n",
       "      <td>1.500000</td>\n",
       "      <td>9.526114</td>\n",
       "      <td>0.347556</td>\n",
       "    </tr>\n",
       "    <tr>\n",
       "      <th>75%</th>\n",
       "      <td>0.609750</td>\n",
       "      <td>1.750000</td>\n",
       "      <td>9.592216</td>\n",
       "      <td>0.384492</td>\n",
       "    </tr>\n",
       "    <tr>\n",
       "      <th>max</th>\n",
       "      <td>0.660000</td>\n",
       "      <td>2.000000</td>\n",
       "      <td>9.630199</td>\n",
       "      <td>0.421677</td>\n",
       "    </tr>\n",
       "  </tbody>\n",
       "</table>\n",
       "</div>"
      ],
      "text/plain": [
       "           tiempo    longitud  g_calculado     g_error\n",
       "count  250.000000  250.000000   250.000000  250.000000\n",
       "mean     0.560000    1.500000     9.486044    0.349169\n",
       "std      0.058085    0.290454     0.125573    0.041153\n",
       "min      0.460000    1.000000     9.182736    0.282027\n",
       "25%      0.510250    1.250000     9.405672    0.313252\n",
       "50%      0.560000    1.500000     9.526114    0.347556\n",
       "75%      0.609750    1.750000     9.592216    0.384492\n",
       "max      0.660000    2.000000     9.630199    0.421677"
      ]
     },
     "execution_count": 159,
     "metadata": {},
     "output_type": "execute_result"
    }
   ],
   "source": [
    "df_recta_1.describe()"
   ]
  },
  {
   "attachments": {},
   "cell_type": "markdown",
   "metadata": {},
   "source": [
    "Finalmente, con el dataframe creado ejecutamos el siguiente comando para eliminar los valores que estén 'vacios' en la columna planeta.</br>"
   ]
  },
  {
   "cell_type": "code",
   "execution_count": 160,
   "metadata": {},
   "outputs": [
    {
     "data": {
      "text/html": [
       "<div>\n",
       "<style scoped>\n",
       "    .dataframe tbody tr th:only-of-type {\n",
       "        vertical-align: middle;\n",
       "    }\n",
       "\n",
       "    .dataframe tbody tr th {\n",
       "        vertical-align: top;\n",
       "    }\n",
       "\n",
       "    .dataframe thead th {\n",
       "        text-align: right;\n",
       "    }\n",
       "</style>\n",
       "<table border=\"1\" class=\"dataframe\">\n",
       "  <thead>\n",
       "    <tr style=\"text-align: right;\">\n",
       "      <th></th>\n",
       "      <th>tiempo</th>\n",
       "      <th>longitud</th>\n",
       "      <th>g_calculado</th>\n",
       "      <th>g_error</th>\n",
       "      <th>planeta</th>\n",
       "    </tr>\n",
       "  </thead>\n",
       "  <tbody>\n",
       "    <tr>\n",
       "      <th>0</th>\n",
       "      <td>False</td>\n",
       "      <td>False</td>\n",
       "      <td>False</td>\n",
       "      <td>False</td>\n",
       "      <td>False</td>\n",
       "    </tr>\n",
       "    <tr>\n",
       "      <th>1</th>\n",
       "      <td>False</td>\n",
       "      <td>False</td>\n",
       "      <td>False</td>\n",
       "      <td>False</td>\n",
       "      <td>False</td>\n",
       "    </tr>\n",
       "    <tr>\n",
       "      <th>2</th>\n",
       "      <td>False</td>\n",
       "      <td>False</td>\n",
       "      <td>False</td>\n",
       "      <td>False</td>\n",
       "      <td>False</td>\n",
       "    </tr>\n",
       "    <tr>\n",
       "      <th>3</th>\n",
       "      <td>False</td>\n",
       "      <td>False</td>\n",
       "      <td>False</td>\n",
       "      <td>False</td>\n",
       "      <td>False</td>\n",
       "    </tr>\n",
       "    <tr>\n",
       "      <th>4</th>\n",
       "      <td>False</td>\n",
       "      <td>False</td>\n",
       "      <td>False</td>\n",
       "      <td>False</td>\n",
       "      <td>False</td>\n",
       "    </tr>\n",
       "    <tr>\n",
       "      <th>...</th>\n",
       "      <td>...</td>\n",
       "      <td>...</td>\n",
       "      <td>...</td>\n",
       "      <td>...</td>\n",
       "      <td>...</td>\n",
       "    </tr>\n",
       "    <tr>\n",
       "      <th>245</th>\n",
       "      <td>False</td>\n",
       "      <td>False</td>\n",
       "      <td>False</td>\n",
       "      <td>False</td>\n",
       "      <td>False</td>\n",
       "    </tr>\n",
       "    <tr>\n",
       "      <th>246</th>\n",
       "      <td>False</td>\n",
       "      <td>False</td>\n",
       "      <td>False</td>\n",
       "      <td>False</td>\n",
       "      <td>False</td>\n",
       "    </tr>\n",
       "    <tr>\n",
       "      <th>247</th>\n",
       "      <td>False</td>\n",
       "      <td>False</td>\n",
       "      <td>False</td>\n",
       "      <td>False</td>\n",
       "      <td>False</td>\n",
       "    </tr>\n",
       "    <tr>\n",
       "      <th>248</th>\n",
       "      <td>False</td>\n",
       "      <td>False</td>\n",
       "      <td>False</td>\n",
       "      <td>False</td>\n",
       "      <td>False</td>\n",
       "    </tr>\n",
       "    <tr>\n",
       "      <th>249</th>\n",
       "      <td>False</td>\n",
       "      <td>False</td>\n",
       "      <td>False</td>\n",
       "      <td>False</td>\n",
       "      <td>False</td>\n",
       "    </tr>\n",
       "  </tbody>\n",
       "</table>\n",
       "<p>250 rows × 5 columns</p>\n",
       "</div>"
      ],
      "text/plain": [
       "     tiempo  longitud  g_calculado  g_error  planeta\n",
       "0     False     False        False    False    False\n",
       "1     False     False        False    False    False\n",
       "2     False     False        False    False    False\n",
       "3     False     False        False    False    False\n",
       "4     False     False        False    False    False\n",
       "..      ...       ...          ...      ...      ...\n",
       "245   False     False        False    False    False\n",
       "246   False     False        False    False    False\n",
       "247   False     False        False    False    False\n",
       "248   False     False        False    False    False\n",
       "249   False     False        False    False    False\n",
       "\n",
       "[250 rows x 5 columns]"
      ]
     },
     "execution_count": 160,
     "metadata": {},
     "output_type": "execute_result"
    }
   ],
   "source": [
    "df_recta_1['planeta'].replace('', np.nan, inplace=True) # Reemplazar los valores vacíos por NaN\n",
    "df_recta_1.isnull() # Eliminar las filas con valores NaN"
   ]
  },
  {
   "attachments": {},
   "cell_type": "markdown",
   "metadata": {},
   "source": [
    "Comprobamos el tipo de cada columna para ver si son correctos.</br>"
   ]
  },
  {
   "cell_type": "code",
   "execution_count": 161,
   "metadata": {},
   "outputs": [
    {
     "data": {
      "text/plain": [
       "tiempo         float64\n",
       "longitud       float64\n",
       "g_calculado    float64\n",
       "g_error        float64\n",
       "planeta         object\n",
       "dtype: object"
      ]
     },
     "execution_count": 161,
     "metadata": {},
     "output_type": "execute_result"
    }
   ],
   "source": [
    "df_recta_1.dtypes"
   ]
  },
  {
   "cell_type": "code",
   "execution_count": 162,
   "metadata": {},
   "outputs": [
    {
     "data": {
      "text/plain": [
       "Tierra     164\n",
       "Saturno     30\n",
       "Name: planeta, dtype: int64"
      ]
     },
     "execution_count": 162,
     "metadata": {},
     "output_type": "execute_result"
    }
   ],
   "source": [
    "df_recta_1['planeta'].value_counts()\n"
   ]
  },
  {
   "attachments": {},
   "cell_type": "markdown",
   "metadata": {},
   "source": [
    "Contamos el número de veces que se ha repetido la misma palabra en la columna de 'planeta'. Finalmente nos sale como resultado que la Tierra es el que mayor número de veces que se ha repetido la misma palabra en la columna, por consiguiente es el planeta en el que se encuentran.</br>\n",
    "\n",
    "Seguidamente se podrá observar un gráfico realizado gracias a la libreria Matplotib sobre las veces que se repiten los planetas.</br>"
   ]
  },
  {
   "cell_type": "code",
   "execution_count": 163,
   "metadata": {},
   "outputs": [
    {
     "data": {
      "image/png": "[encoded data removed]",
      "text/plain": [
       "<Figure size 640x480 with 1 Axes>"
      ]
     },
     "metadata": {},
     "output_type": "display_data"
    }
   ],
   "source": [
    "df_recta_1['planeta'].value_counts().plot(kind='bar')\n",
    "\n",
    "plt.title('Planetas encontrados')\n",
    "plt.xlabel('Planetas')\n",
    "plt.ylabel('Cantidad de veces encontrados')\n",
    "\n",
    "plt.show()"
   ]
  },
  {
   "attachments": {},
   "cell_type": "markdown",
   "metadata": {},
   "source": [
    "### Cálculo de porcentajes"
   ]
  },
  {
   "cell_type": "code",
   "execution_count": 164,
   "metadata": {},
   "outputs": [
    {
     "name": "stdout",
     "output_type": "stream",
     "text": [
      "Tierra: 65.6%\n",
      "Saturno: 12.0%\n"
     ]
    }
   ],
   "source": [
    "# Calcular la frecuencia absoluta\n",
    "freq_abs = df_recta_1['planeta'].value_counts()\n",
    "\n",
    "# Calcular la frecuencia relativa\n",
    "freq_rel = freq_abs / len(df_recta_1['planeta'])\n",
    "\n",
    "# Calcular los porcentajes (opcional)\n",
    "porcentajes = freq_rel * 100\n",
    "for i in range(len(porcentajes)):\n",
    "    print(f'{freq_abs.index[i]}: {round(porcentajes[i], 2)}%')\n"
   ]
  },
  {
   "attachments": {},
   "cell_type": "markdown",
   "metadata": {},
   "source": [
    "## Conclusión"
   ]
  },
  {
   "attachments": {},
   "cell_type": "markdown",
   "metadata": {},
   "source": [
    "Tras todos los cálculos realizados, llegamos a la conclusión de que se encuentra en la Tierra. </br>"
   ]
  }
 ],
 "metadata": {
  "kernelspec": {
   "display_name": "base",
   "language": "python",
   "name": "python3"
  },
  "language_info": {
   "codemirror_mode": {
    "name": "ipython",
    "version": 3
   },
   "file_extension": ".py",
   "mimetype": "text/x-python",
   "name": "python",
   "nbconvert_exporter": "python",
   "pygments_lexer": "ipython3",
   "version": "3.9.13"
  },
  "orig_nbformat": 4
 },
 "nbformat": 4,
 "nbformat_minor": 2
}
