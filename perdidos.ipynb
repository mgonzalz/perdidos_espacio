{
 "cells": [
  {
   "attachments": {},
   "cell_type": "markdown",
   "metadata": {},
   "source": [
    "# **PERDIDOS EN EL ESPACIO**"
   ]
  },
  {
   "attachments": {},
   "cell_type": "markdown",
   "metadata": {},
   "source": [
    "Este proyecto consiste en localizar el planeta en el que se encuentra la nave"
   ]
  },
  {
   "attachments": {},
   "cell_type": "markdown",
   "metadata": {},
   "source": [
    "## Importaciones necesarias"
   ]
  },
  {
   "cell_type": "code",
   "execution_count": 96,
   "metadata": {},
   "outputs": [
    {
     "name": "stdout",
     "output_type": "stream",
     "text": [
      "Setup complete\n"
     ]
    }
   ],
   "source": [
    "# Importación de las librerias\n",
    "import random\n",
    "import pandas as pd\n",
    "import numpy as np\n",
    "import matplotlib.pyplot as plt\n",
    "from faker import Faker\n",
    "from sklearn.preprocessing import LabelEncoder\n",
    "print(\"Setup complete\")"
   ]
  },
  {
   "attachments": {},
   "cell_type": "markdown",
   "metadata": {},
   "source": [
    "## Primera toma de contacto con los planetas"
   ]
  },
  {
   "attachments": {},
   "cell_type": "markdown",
   "metadata": {},
   "source": [
    "### Creación de los planetas"
   ]
  },
  {
   "attachments": {},
   "cell_type": "markdown",
   "metadata": {},
   "source": [
    "Los planetas tienen características similares, mismas variables, pero con distintos datos. Por ello, sería óptimo la creación de clases poniendo como variable la gravedad y nombre de cada uno de ellos."
   ]
  },
  {
   "cell_type": "code",
   "execution_count": 97,
   "metadata": {},
   "outputs": [
    {
     "name": "stdout",
     "output_type": "stream",
     "text": [
      "Planetas cargados\n"
     ]
    }
   ],
   "source": [
    "class Planeta:\n",
    "    def __init__(self, nombre, g): #g: gravedad\n",
    "        self.nombre = nombre\n",
    "        self.g = g\n",
    "\n",
    "planetas = {'Tierra': 9.8 , 'Marte': 3.7, 'Jupiter': 24.8, 'Saturno': 9.0, 'Urano': 8.7, 'Neptuno': 11.0} # Posibles planetas\n",
    "planetas_simulacion = [] # Planetas que se van a usar en la simulación\n",
    "\n",
    "for i in range(len(planetas)):\n",
    "    planetas[i] = Planeta(list(planetas.keys())[i], list(planetas.values())[i])\n",
    "    planetas_simulacion.append(planetas[i])\n",
    "print(\"Planetas cargados\")"
   ]
  },
  {
   "attachments": {},
   "cell_type": "markdown",
   "metadata": {},
   "source": [
    "Con los planetas ya generados se pasaría a la fase de la experimentación y descartar algunos planetas mediante los ejercicios 1 y 2. Aunque primero definimos las operaciones que se utilizarán para el cálculo del error y la gravedad."
   ]
  },
  {
   "attachments": {},
   "cell_type": "markdown",
   "metadata": {},
   "source": [
    "### Cálculos"
   ]
  },
  {
   "cell_type": "code",
   "execution_count": 98,
   "metadata": {},
   "outputs": [],
   "source": [
    "# Operación de la simulación\n",
    "def simulacion(longitud, tiempo):\n",
    "    # CALCULO DE LA GRAVEDAD\n",
    "    g_calculado = (2 * longitud) / (tiempo**2)\n",
    "\n",
    "    # CALCULO DEL ERROR\n",
    "    L_error = 0.01 # VALOR YA DADO\n",
    "    t_error = 0.01 # VALOR YA DADO\n",
    "    dg_dL = 2 / tiempo**2 #Derivada parcial g respecto l\n",
    "    dg_dt = -4 * longitud / tiempo**3 #Derivada parcial g respecto t\n",
    "    g_error = np.sqrt((dg_dL * L_error)**2 + (dg_dt * t_error)**2) # Error de la gravedad\n",
    "\n",
    "    print(\"Gravedad calculada: \", g_calculado)\n",
    "    print(\"Error de la gravedad: \", g_error)\n",
    "    return g_calculado, g_error\n",
    "\n",
    "def planetas_esperados(g_calculado, g_error):\n",
    "    # PLANETAS MAS PROBABLES\n",
    "    planetas_probables = []\n",
    "    for i in range(len(planetas_simulacion)):\n",
    "        if g_calculado - g_error < planetas_simulacion[i].g < g_calculado + g_error:\n",
    "            planetas_probables.append(planetas[i])\n",
    "    return planetas_probables"
   ]
  },
  {
   "attachments": {},
   "cell_type": "markdown",
   "metadata": {},
   "source": [
    "Establecidad las operaciones. Se pasa a la fase de descarte de planetas."
   ]
  },
  {
   "cell_type": "code",
   "execution_count": 100,
   "metadata": {},
   "outputs": [
    {
     "name": "stdout",
     "output_type": "stream",
     "text": [
      "Gravedad calculada:  9.45179584120983\n",
      "Error de la gravedad:  0.42167714144276636\n",
      "Gravedad calculada:  8.680555555555555\n",
      "Error de la gravedad:  0.3719606519728716\n",
      "El planeta se puede encontrar en alguno de los siguientes planetas: \n",
      "  - Tierra\n",
      "  - Saturno\n",
      "  - Urano\n"
     ]
    }
   ],
   "source": [
    "experimento_a = simulacion(1, 0.46)\n",
    "experimento_a = planetas_esperados(experimento_a[0], experimento_a[1])\n",
    "experimento_b = simulacion(1, 0.48)\n",
    "experimento_b = planetas_esperados(experimento_b[0], experimento_b[1])\n",
    "if experimento_a == experimento_b:\n",
    "    print(\"El planeta en el que se encuentra la nave se trata de \", experimento_a[0].nombre())\n",
    "else:\n",
    "    planetas_probables = []\n",
    "    for i in range(len(experimento_a)):\n",
    "        planetas_probables.append(experimento_a[i])\n",
    "    for i in range(len(experimento_b)):\n",
    "        planetas_probables.append(experimento_b[i])\n",
    "    print(\"El planeta se puede encontrar en alguno de los siguientes planetas: \")\n",
    "    for i in range(len(planetas_probables)):\n",
    "        print('  -', planetas_probables[i].nombre)"
   ]
  },
  {
   "attachments": {},
   "cell_type": "markdown",
   "metadata": {},
   "source": [
    "A continuación la lista se nos ha reducido a 3 posibles planetas por lo tanto comencemos dataset"
   ]
  },
  {
   "attachments": {},
   "cell_type": "markdown",
   "metadata": {},
   "source": [
    "## Creación del DataSet"
   ]
  }
 ],
 "metadata": {
  "kernelspec": {
   "display_name": "base",
   "language": "python",
   "name": "python3"
  },
  "language_info": {
   "codemirror_mode": {
    "name": "ipython",
    "version": 3
   },
   "file_extension": ".py",
   "mimetype": "text/x-python",
   "name": "python",
   "nbconvert_exporter": "python",
   "pygments_lexer": "ipython3",
   "version": "3.9.13"
  },
  "orig_nbformat": 4
 },
 "nbformat": 4,
 "nbformat_minor": 2
}
