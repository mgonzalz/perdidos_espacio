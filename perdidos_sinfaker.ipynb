{
 "cells": [
  {
   "attachments": {},
   "cell_type": "markdown",
   "metadata": {},
   "source": [
    "# **PERDIDOS EN EL ESPACIO**"
   ]
  },
  {
   "attachments": {},
   "cell_type": "markdown",
   "metadata": {},
   "source": [
    "Este proyecto consiste en localizar el planeta en el que se encuentra la nave."
   ]
  },
  {
   "attachments": {},
   "cell_type": "markdown",
   "metadata": {},
   "source": [
    "## Importaciones necesarias"
   ]
  },
  {
   "attachments": {},
   "cell_type": "markdown",
   "metadata": {},
   "source": [
    "Primeramente, comenzamos con la importación de las distintas librerías necesarias para la realización del ejercicio. Las librerías importadas son las siguientes:</br>\n",
    "- Panda: Librería dedicada a la manipulación y análisis de datos.</br>\n",
    "- Numpy: Librería dedicada a funciones matemáticas, también estadísticas siendo fundamentales para la resolución del ejercicio.</br>\n",
    "- Matplotlib: Librería capaz de realizar gráficos, diagramas, entre otros, es decir, es una biblioteca de visualización de datos. Para poder funcionar correctamente es necesario Numpy ya que lo utiliza para realizar distintos cálculos antes de realizar el grafico que se imprimirá. Se importa junto al módulo pyplot, que proporciona una interfaz simple para la creación y visualización de gráficos y datos.</br>\n",
    "- Plotly: Librería similar a Matplotlib, cumple la misma función. Sin embargo, estos gráficos que crean son interactivos. Se importa dentro de ella express, añadiendo la posibilidad de crear gráficos de área, puntos, entre otros, necesarios para la realización de las rectas de regresión lineal.</br>"
   ]
  },
  {
   "cell_type": "code",
   "execution_count": 114,
   "metadata": {},
   "outputs": [
    {
     "name": "stdout",
     "output_type": "stream",
     "text": [
      "Setup complete\n"
     ]
    }
   ],
   "source": [
    "# Importación de las librerias\n",
    "import pandas as pd\n",
    "import numpy as np\n",
    "import matplotlib.pyplot as plt\n",
    "import plotly.express as px\n",
    "print(\"Setup complete\")"
   ]
  },
  {
   "attachments": {},
   "cell_type": "markdown",
   "metadata": {},
   "source": [
    "## Primera toma de contacto con los planetas"
   ]
  },
  {
   "attachments": {},
   "cell_type": "markdown",
   "metadata": {},
   "source": [
    "### Creación de los planetas"
   ]
  },
  {
   "attachments": {},
   "cell_type": "markdown",
   "metadata": {},
   "source": [
    "Los planetas tienen características similares, mismas variables, pero con distintos datos. Por ello, sería óptimo la creación de clases poniendo como variable la gravedad y nombre de cada uno de ellos. Para la definición de los planetas, se ha realizado un diccionario introduciendo como clave el nombre del planeta y valor su gravedad. Finalmente mediante un bucle se han introducido en una lista todos los planetas. </br>"
   ]
  },
  {
   "cell_type": "code",
   "execution_count": 115,
   "metadata": {},
   "outputs": [
    {
     "name": "stdout",
     "output_type": "stream",
     "text": [
      "Planetas cargados\n"
     ]
    }
   ],
   "source": [
    "class Planeta:\n",
    "    def __init__(self, nombre, g):\n",
    "        self.nombre = nombre\n",
    "        self.g = g\n",
    "\n",
    "planetas = {'Tierra': 9.8 , 'Marte': 3.7, 'Jupiter': 24.8, 'Saturno': 9.0, 'Urano': 8.7, 'Neptuno': 11.0} # Posibles planetas\n",
    "planetas_list = [] # Planetas\n",
    "\n",
    "for i in range(len(planetas)):\n",
    "    planetas[i] = Planeta(list(planetas.keys())[i], list(planetas.values())[i])\n",
    "    planetas_list.append(planetas[i])\n",
    "\n",
    "\n",
    "print(\"Planetas cargados\")"
   ]
  },
  {
   "attachments": {},
   "cell_type": "markdown",
   "metadata": {},
   "source": [
    "Con los planetas ya generados se pasaría a la fase de la experimentación y a través de los ejercicios propuestos se descartarían algunos planetas. Aunque primero definimos las operaciones que se utilizarán para el cálculo del error y la gravedad mediante funciones.</br>"
   ]
  },
  {
   "attachments": {},
   "cell_type": "markdown",
   "metadata": {},
   "source": [
    "### Operaciones y búsqueda del planeta"
   ]
  },
  {
   "attachments": {},
   "cell_type": "markdown",
   "metadata": {},
   "source": [
    "#### Cálculo de la gravedad y el error"
   ]
  },
  {
   "attachments": {},
   "cell_type": "markdown",
   "metadata": {},
   "source": [
    "El enunciado proporciona la fórmula necesaria y además especifica el error de la longitud y tiempo.</br>"
   ]
  },
  {
   "cell_type": "code",
   "execution_count": 116,
   "metadata": {},
   "outputs": [],
   "source": [
    "# Operación de la simulación\n",
    "def simulacion(longitud, tiempo):\n",
    "    # CALCULO DE LA GRAVEDAD\n",
    "    g_calculado = (2 * longitud) / (tiempo**2)\n",
    "\n",
    "    # CALCULO DEL ERROR\n",
    "    L_error = 0.01 # VALOR YA DADO EN EL ENUNCIADO\n",
    "    t_error = 0.01 # VALOR YA DADO EN EL ENUNCIADO\n",
    "    dg_dL = 2 / tiempo**2 #Derivada parcial g respecto l\n",
    "    dg_dt = -4 * longitud / tiempo**3 #Derivada parcial g respecto t\n",
    "\n",
    "    g_error = np.sqrt((dg_dL * L_error)**2 + (dg_dt * t_error)**2)\n",
    "    return g_calculado, g_error"
   ]
  },
  {
   "attachments": {},
   "cell_type": "markdown",
   "metadata": {},
   "source": [
    "Definida las distintas operaciones para el cálculo de la gravedad y el error. Nos hace falta designar una función que permita mediante ese resultado analizar en que planetas estará y descartar algunos. Para ello, se establece una función que devuelve una lista tratada con un bucle que mediante un condicional certifique si el valor de las gravedades de todos los planetas se encuentra entre la nueva gravedad calculada mas y menos su error. </br>"
   ]
  },
  {
   "attachments": {},
   "cell_type": "markdown",
   "metadata": {},
   "source": [
    "#### Establecimiento de los posibles planetas"
   ]
  },
  {
   "cell_type": "code",
   "execution_count": 117,
   "metadata": {},
   "outputs": [],
   "source": [
    "\n",
    "def planetas_esperados(g_calculado, g_error):\n",
    "    planetas_probables = []\n",
    "    for i in range(len(planetas_list)):\n",
    "        if g_calculado - g_error <= planetas_list[i].g <= g_calculado + g_error:\n",
    "            planetas_probables.append(planetas[i])\n",
    "        else:\n",
    "            pass\n",
    "    return planetas_probables\n"
   ]
  },
  {
   "attachments": {},
   "cell_type": "markdown",
   "metadata": {},
   "source": [
    "## Resolución de los ejercicios propuestos"
   ]
  },
  {
   "cell_type": "code",
   "execution_count": 118,
   "metadata": {},
   "outputs": [
    {
     "name": "stdout",
     "output_type": "stream",
     "text": [
      "Experimento A\n",
      "- Gravedad calculada: 9.452 \n",
      "- Error calculado: 0.422 \n",
      "Experimento B\n",
      "- Gravedad calculada: 9.183 \n",
      "- Error calculado: 0.282 \n"
     ]
    }
   ],
   "source": [
    "experimento_a = simulacion(1, 0.46)\n",
    "print(\"Experimento A\")\n",
    "print(f\"- Gravedad calculada: {round(experimento_a[0],3)} \\n- Error calculado: {round(experimento_a[1],3)} \")\n",
    "experimento_b = simulacion(2, 0.66)\n",
    "print('Experimento B')\n",
    "print(f\"- Gravedad calculada: {round(experimento_b[0],3)} \\n- Error calculado: {round(experimento_b[1],3)} \")"
   ]
  },
  {
   "cell_type": "code",
   "execution_count": 119,
   "metadata": {},
   "outputs": [
    {
     "name": "stdout",
     "output_type": "stream",
     "text": [
      "El planeta se puede encontrar en alguno de los siguientes planetas: \n",
      "  - Tierra\n",
      "  - Saturno\n"
     ]
    }
   ],
   "source": [
    "experimento_a = planetas_esperados(experimento_a[0], experimento_a[1])\n",
    "\n",
    "experimento_b = planetas_esperados(experimento_b[0], experimento_b[1])\n",
    "\n",
    "if experimento_a == experimento_b:\n",
    "    print(\"El planeta en el que se encuentra la nave se trata de \", experimento_a[0].nombre())\n",
    "else:\n",
    "    planetas_probables = []\n",
    "    for i in range(len(experimento_a)):\n",
    "        planetas_probables.append(experimento_a[i])\n",
    "    for i in range(len(experimento_b)):\n",
    "        planetas_probables.append(experimento_b[i])\n",
    "    print(\"El planeta se puede encontrar en alguno de los siguientes planetas: \")\n",
    "    for i in range(len(planetas_probables)):\n",
    "        print('  -', planetas_probables[i].nombre)"
   ]
  },
  {
   "attachments": {},
   "cell_type": "markdown",
   "metadata": {},
   "source": [
    "A continuación, la lista se nos ha reducido a 2 posibles planetas por lo tanto comencemos dataset."
   ]
  },
  {
   "attachments": {},
   "cell_type": "markdown",
   "metadata": {},
   "source": [
    "## Creación del DataSet"
   ]
  },
  {
   "attachments": {},
   "cell_type": "markdown",
   "metadata": {},
   "source": [
    "El objetivo será realizar un dataset con distintos valores de longitud y tiempo y a partir de ahí calcular su error y gravedad a través de la anterior función. Tras ello, ejecutar el método anterior para averiguar en todos los posibles planetas y decidir finalmente en cual estará.</br>"
   ]
  },
  {
   "attachments": {},
   "cell_type": "markdown",
   "metadata": {},
   "source": [
    "### Creacion de distintos instantes de tiempo y longitudes"
   ]
  },
  {
   "attachments": {},
   "cell_type": "markdown",
   "metadata": {},
   "source": [
    "Se ha realizado una gráfica, SE HA SUPUESTO que la gravedad es lineal, no cuadrática que es como sería en la realidad. Para ello, se ha creado un DataFrame con los valores dados por los problemas propuestos. Mediante el uso de numpy, se ha hallado los distintos coeficientes de la recta: y=mx+n. Tras ello mediante plotly se ha creado primero la gráfica con eje x: tiempo; eje y= longitud. Mediante la función add_trace se añade la recta.</br>"
   ]
  },
  {
   "cell_type": "code",
   "execution_count": 120,
   "metadata": {},
   "outputs": [
    {
     "data": {
      "application/vnd.plotly.v1+json": {
       "config": {
        "plotlyServerURL": "https://plot.ly"
       },
       "data": [
        {
         "hovertemplate": "tiempo=%{x}<br>longitud=%{y}<extra></extra>",
         "legendgroup": "",
         "marker": {
          "color": "#636efa",
          "symbol": "circle"
         },
         "mode": "markers",
         "name": "",
         "orientation": "v",
         "showlegend": false,
         "type": "scatter",
         "x": [
          0.46,
          0.66
         ],
         "xaxis": "x",
         "y": [
          1,
          2
         ],
         "yaxis": "y"
        },
        {
         "hovertemplate": "x=%{x}<br>y=%{y}<extra></extra>",
         "legendgroup": "",
         "line": {
          "color": "#636efa",
          "dash": "solid"
         },
         "marker": {
          "symbol": "circle"
         },
         "mode": "lines",
         "name": "",
         "orientation": "v",
         "showlegend": false,
         "type": "scatter",
         "x": [
          0.46,
          0.66
         ],
         "xaxis": "x",
         "y": [
          1,
          2
         ],
         "yaxis": "y"
        }
       ],
       "layout": {
        "legend": {
         "tracegroupgap": 0
        },
        "margin": {
         "t": 60
        },
        "template": {
         "data": {
          "bar": [
           {
            "error_x": {
             "color": "#2a3f5f"
            },
            "error_y": {
             "color": "#2a3f5f"
            },
            "marker": {
             "line": {
              "color": "#E5ECF6",
              "width": 0.5
             },
             "pattern": {
              "fillmode": "overlay",
              "size": 10,
              "solidity": 0.2
             }
            },
            "type": "bar"
           }
          ],
          "barpolar": [
           {
            "marker": {
             "line": {
              "color": "#E5ECF6",
              "width": 0.5
             },
             "pattern": {
              "fillmode": "overlay",
              "size": 10,
              "solidity": 0.2
             }
            },
            "type": "barpolar"
           }
          ],
          "carpet": [
           {
            "aaxis": {
             "endlinecolor": "#2a3f5f",
             "gridcolor": "white",
             "linecolor": "white",
             "minorgridcolor": "white",
             "startlinecolor": "#2a3f5f"
            },
            "baxis": {
             "endlinecolor": "#2a3f5f",
             "gridcolor": "white",
             "linecolor": "white",
             "minorgridcolor": "white",
             "startlinecolor": "#2a3f5f"
            },
            "type": "carpet"
           }
          ],
          "choropleth": [
           {
            "colorbar": {
             "outlinewidth": 0,
             "ticks": ""
            },
            "type": "choropleth"
           }
          ],
          "contour": [
           {
            "colorbar": {
             "outlinewidth": 0,
             "ticks": ""
            },
            "colorscale": [
             [
              0,
              "#0d0887"
             ],
             [
              0.1111111111111111,
              "#46039f"
             ],
             [
              0.2222222222222222,
              "#7201a8"
             ],
             [
              0.3333333333333333,
              "#9c179e"
             ],
             [
              0.4444444444444444,
              "#bd3786"
             ],
             [
              0.5555555555555556,
              "#d8576b"
             ],
             [
              0.6666666666666666,
              "#ed7953"
             ],
             [
              0.7777777777777778,
              "#fb9f3a"
             ],
             [
              0.8888888888888888,
              "#fdca26"
             ],
             [
              1,
              "#f0f921"
             ]
            ],
            "type": "contour"
           }
          ],
          "contourcarpet": [
           {
            "colorbar": {
             "outlinewidth": 0,
             "ticks": ""
            },
            "type": "contourcarpet"
           }
          ],
          "heatmap": [
           {
            "colorbar": {
             "outlinewidth": 0,
             "ticks": ""
            },
            "colorscale": [
             [
              0,
              "#0d0887"
             ],
             [
              0.1111111111111111,
              "#46039f"
             ],
             [
              0.2222222222222222,
              "#7201a8"
             ],
             [
              0.3333333333333333,
              "#9c179e"
             ],
             [
              0.4444444444444444,
              "#bd3786"
             ],
             [
              0.5555555555555556,
              "#d8576b"
             ],
             [
              0.6666666666666666,
              "#ed7953"
             ],
             [
              0.7777777777777778,
              "#fb9f3a"
             ],
             [
              0.8888888888888888,
              "#fdca26"
             ],
             [
              1,
              "#f0f921"
             ]
            ],
            "type": "heatmap"
           }
          ],
          "heatmapgl": [
           {
            "colorbar": {
             "outlinewidth": 0,
             "ticks": ""
            },
            "colorscale": [
             [
              0,
              "#0d0887"
             ],
             [
              0.1111111111111111,
              "#46039f"
             ],
             [
              0.2222222222222222,
              "#7201a8"
             ],
             [
              0.3333333333333333,
              "#9c179e"
             ],
             [
              0.4444444444444444,
              "#bd3786"
             ],
             [
              0.5555555555555556,
              "#d8576b"
             ],
             [
              0.6666666666666666,
              "#ed7953"
             ],
             [
              0.7777777777777778,
              "#fb9f3a"
             ],
             [
              0.8888888888888888,
              "#fdca26"
             ],
             [
              1,
              "#f0f921"
             ]
            ],
            "type": "heatmapgl"
           }
          ],
          "histogram": [
           {
            "marker": {
             "pattern": {
              "fillmode": "overlay",
              "size": 10,
              "solidity": 0.2
             }
            },
            "type": "histogram"
           }
          ],
          "histogram2d": [
           {
            "colorbar": {
             "outlinewidth": 0,
             "ticks": ""
            },
            "colorscale": [
             [
              0,
              "#0d0887"
             ],
             [
              0.1111111111111111,
              "#46039f"
             ],
             [
              0.2222222222222222,
              "#7201a8"
             ],
             [
              0.3333333333333333,
              "#9c179e"
             ],
             [
              0.4444444444444444,
              "#bd3786"
             ],
             [
              0.5555555555555556,
              "#d8576b"
             ],
             [
              0.6666666666666666,
              "#ed7953"
             ],
             [
              0.7777777777777778,
              "#fb9f3a"
             ],
             [
              0.8888888888888888,
              "#fdca26"
             ],
             [
              1,
              "#f0f921"
             ]
            ],
            "type": "histogram2d"
           }
          ],
          "histogram2dcontour": [
           {
            "colorbar": {
             "outlinewidth": 0,
             "ticks": ""
            },
            "colorscale": [
             [
              0,
              "#0d0887"
             ],
             [
              0.1111111111111111,
              "#46039f"
             ],
             [
              0.2222222222222222,
              "#7201a8"
             ],
             [
              0.3333333333333333,
              "#9c179e"
             ],
             [
              0.4444444444444444,
              "#bd3786"
             ],
             [
              0.5555555555555556,
              "#d8576b"
             ],
             [
              0.6666666666666666,
              "#ed7953"
             ],
             [
              0.7777777777777778,
              "#fb9f3a"
             ],
             [
              0.8888888888888888,
              "#fdca26"
             ],
             [
              1,
              "#f0f921"
             ]
            ],
            "type": "histogram2dcontour"
           }
          ],
          "mesh3d": [
           {
            "colorbar": {
             "outlinewidth": 0,
             "ticks": ""
            },
            "type": "mesh3d"
           }
          ],
          "parcoords": [
           {
            "line": {
             "colorbar": {
              "outlinewidth": 0,
              "ticks": ""
             }
            },
            "type": "parcoords"
           }
          ],
          "pie": [
           {
            "automargin": true,
            "type": "pie"
           }
          ],
          "scatter": [
           {
            "fillpattern": {
             "fillmode": "overlay",
             "size": 10,
             "solidity": 0.2
            },
            "type": "scatter"
           }
          ],
          "scatter3d": [
           {
            "line": {
             "colorbar": {
              "outlinewidth": 0,
              "ticks": ""
             }
            },
            "marker": {
             "colorbar": {
              "outlinewidth": 0,
              "ticks": ""
             }
            },
            "type": "scatter3d"
           }
          ],
          "scattercarpet": [
           {
            "marker": {
             "colorbar": {
              "outlinewidth": 0,
              "ticks": ""
             }
            },
            "type": "scattercarpet"
           }
          ],
          "scattergeo": [
           {
            "marker": {
             "colorbar": {
              "outlinewidth": 0,
              "ticks": ""
             }
            },
            "type": "scattergeo"
           }
          ],
          "scattergl": [
           {
            "marker": {
             "colorbar": {
              "outlinewidth": 0,
              "ticks": ""
             }
            },
            "type": "scattergl"
           }
          ],
          "scattermapbox": [
           {
            "marker": {
             "colorbar": {
              "outlinewidth": 0,
              "ticks": ""
             }
            },
            "type": "scattermapbox"
           }
          ],
          "scatterpolar": [
           {
            "marker": {
             "colorbar": {
              "outlinewidth": 0,
              "ticks": ""
             }
            },
            "type": "scatterpolar"
           }
          ],
          "scatterpolargl": [
           {
            "marker": {
             "colorbar": {
              "outlinewidth": 0,
              "ticks": ""
             }
            },
            "type": "scatterpolargl"
           }
          ],
          "scatterternary": [
           {
            "marker": {
             "colorbar": {
              "outlinewidth": 0,
              "ticks": ""
             }
            },
            "type": "scatterternary"
           }
          ],
          "surface": [
           {
            "colorbar": {
             "outlinewidth": 0,
             "ticks": ""
            },
            "colorscale": [
             [
              0,
              "#0d0887"
             ],
             [
              0.1111111111111111,
              "#46039f"
             ],
             [
              0.2222222222222222,
              "#7201a8"
             ],
             [
              0.3333333333333333,
              "#9c179e"
             ],
             [
              0.4444444444444444,
              "#bd3786"
             ],
             [
              0.5555555555555556,
              "#d8576b"
             ],
             [
              0.6666666666666666,
              "#ed7953"
             ],
             [
              0.7777777777777778,
              "#fb9f3a"
             ],
             [
              0.8888888888888888,
              "#fdca26"
             ],
             [
              1,
              "#f0f921"
             ]
            ],
            "type": "surface"
           }
          ],
          "table": [
           {
            "cells": {
             "fill": {
              "color": "#EBF0F8"
             },
             "line": {
              "color": "white"
             }
            },
            "header": {
             "fill": {
              "color": "#C8D4E3"
             },
             "line": {
              "color": "white"
             }
            },
            "type": "table"
           }
          ]
         },
         "layout": {
          "annotationdefaults": {
           "arrowcolor": "#2a3f5f",
           "arrowhead": 0,
           "arrowwidth": 1
          },
          "autotypenumbers": "strict",
          "coloraxis": {
           "colorbar": {
            "outlinewidth": 0,
            "ticks": ""
           }
          },
          "colorscale": {
           "diverging": [
            [
             0,
             "#8e0152"
            ],
            [
             0.1,
             "#c51b7d"
            ],
            [
             0.2,
             "#de77ae"
            ],
            [
             0.3,
             "#f1b6da"
            ],
            [
             0.4,
             "#fde0ef"
            ],
            [
             0.5,
             "#f7f7f7"
            ],
            [
             0.6,
             "#e6f5d0"
            ],
            [
             0.7,
             "#b8e186"
            ],
            [
             0.8,
             "#7fbc41"
            ],
            [
             0.9,
             "#4d9221"
            ],
            [
             1,
             "#276419"
            ]
           ],
           "sequential": [
            [
             0,
             "#0d0887"
            ],
            [
             0.1111111111111111,
             "#46039f"
            ],
            [
             0.2222222222222222,
             "#7201a8"
            ],
            [
             0.3333333333333333,
             "#9c179e"
            ],
            [
             0.4444444444444444,
             "#bd3786"
            ],
            [
             0.5555555555555556,
             "#d8576b"
            ],
            [
             0.6666666666666666,
             "#ed7953"
            ],
            [
             0.7777777777777778,
             "#fb9f3a"
            ],
            [
             0.8888888888888888,
             "#fdca26"
            ],
            [
             1,
             "#f0f921"
            ]
           ],
           "sequentialminus": [
            [
             0,
             "#0d0887"
            ],
            [
             0.1111111111111111,
             "#46039f"
            ],
            [
             0.2222222222222222,
             "#7201a8"
            ],
            [
             0.3333333333333333,
             "#9c179e"
            ],
            [
             0.4444444444444444,
             "#bd3786"
            ],
            [
             0.5555555555555556,
             "#d8576b"
            ],
            [
             0.6666666666666666,
             "#ed7953"
            ],
            [
             0.7777777777777778,
             "#fb9f3a"
            ],
            [
             0.8888888888888888,
             "#fdca26"
            ],
            [
             1,
             "#f0f921"
            ]
           ]
          },
          "colorway": [
           "#636efa",
           "#EF553B",
           "#00cc96",
           "#ab63fa",
           "#FFA15A",
           "#19d3f3",
           "#FF6692",
           "#B6E880",
           "#FF97FF",
           "#FECB52"
          ],
          "font": {
           "color": "#2a3f5f"
          },
          "geo": {
           "bgcolor": "white",
           "lakecolor": "white",
           "landcolor": "#E5ECF6",
           "showlakes": true,
           "showland": true,
           "subunitcolor": "white"
          },
          "hoverlabel": {
           "align": "left"
          },
          "hovermode": "closest",
          "mapbox": {
           "style": "light"
          },
          "paper_bgcolor": "white",
          "plot_bgcolor": "#E5ECF6",
          "polar": {
           "angularaxis": {
            "gridcolor": "white",
            "linecolor": "white",
            "ticks": ""
           },
           "bgcolor": "#E5ECF6",
           "radialaxis": {
            "gridcolor": "white",
            "linecolor": "white",
            "ticks": ""
           }
          },
          "scene": {
           "xaxis": {
            "backgroundcolor": "#E5ECF6",
            "gridcolor": "white",
            "gridwidth": 2,
            "linecolor": "white",
            "showbackground": true,
            "ticks": "",
            "zerolinecolor": "white"
           },
           "yaxis": {
            "backgroundcolor": "#E5ECF6",
            "gridcolor": "white",
            "gridwidth": 2,
            "linecolor": "white",
            "showbackground": true,
            "ticks": "",
            "zerolinecolor": "white"
           },
           "zaxis": {
            "backgroundcolor": "#E5ECF6",
            "gridcolor": "white",
            "gridwidth": 2,
            "linecolor": "white",
            "showbackground": true,
            "ticks": "",
            "zerolinecolor": "white"
           }
          },
          "shapedefaults": {
           "line": {
            "color": "#2a3f5f"
           }
          },
          "ternary": {
           "aaxis": {
            "gridcolor": "white",
            "linecolor": "white",
            "ticks": ""
           },
           "baxis": {
            "gridcolor": "white",
            "linecolor": "white",
            "ticks": ""
           },
           "bgcolor": "#E5ECF6",
           "caxis": {
            "gridcolor": "white",
            "linecolor": "white",
            "ticks": ""
           }
          },
          "title": {
           "x": 0.05
          },
          "xaxis": {
           "automargin": true,
           "gridcolor": "white",
           "linecolor": "white",
           "ticks": "",
           "title": {
            "standoff": 15
           },
           "zerolinecolor": "white",
           "zerolinewidth": 2
          },
          "yaxis": {
           "automargin": true,
           "gridcolor": "white",
           "linecolor": "white",
           "ticks": "",
           "title": {
            "standoff": 15
           },
           "zerolinecolor": "white",
           "zerolinewidth": 2
          }
         }
        },
        "xaxis": {
         "anchor": "y",
         "domain": [
          0,
          1
         ],
         "title": {
          "text": "tiempo"
         }
        },
        "yaxis": {
         "anchor": "x",
         "domain": [
          0,
          1
         ],
         "title": {
          "text": "longitud"
         }
        }
       }
      }
     },
     "metadata": {},
     "output_type": "display_data"
    }
   ],
   "source": [
    "df_recta = pd.DataFrame({'tiempo': [0.46, 0.66], 'longitud': [1,2]})\n",
    "coeficientes = np.polyfit(df_recta['tiempo'], df_recta['longitud'], 1) # polyfit(x, y, degree) sirve para calcular los coeficientes de la ecuación de la recta (y = mx + b)\n",
    "m = coeficientes[0]\n",
    "n = coeficientes[1]\n",
    "fig = px.scatter(df_recta, x='tiempo', y='longitud') # Crear una gráfica de dispersión\n",
    "fig.add_trace(px.line(x=df_recta['tiempo'], y=m*df_recta['tiempo'] + n).data[0]) # Añadir la recta a la gráfica de dispersión\n",
    "fig.show()"
   ]
  },
  {
   "attachments": {},
   "cell_type": "markdown",
   "metadata": {},
   "source": [
    "Esta gráfica ha sido realizada para no coger datos atípicos como podría ser: L = 30; t = 0'3. A continuación, se seleccionarán algunos de los infinitos puntos que contiene la recta y se obtendrán valores para la longitud y tiempo.</br>\n",
    "\n",
    "Para poder realizar lo anteriormente mencionado, mediante la opción de linspace de numpy, estableciendo el principio, el tope y el número de puntos que quieres obtener, se generan valores equidistantes entre el principio y el tope. Para calcular la y, se escribe la ecuación de la recta. Mediante un bucle se van añadiendo esos valores a una lista que serán añadidos al dataframe creado y redondeados a la milésima.</br>"
   ]
  },
  {
   "cell_type": "code",
   "execution_count": 121,
   "metadata": {},
   "outputs": [
    {
     "name": "stdout",
     "output_type": "stream",
     "text": [
      "5.0\n"
     ]
    },
    {
     "data": {
      "text/html": [
       "<div>\n",
       "<style scoped>\n",
       "    .dataframe tbody tr th:only-of-type {\n",
       "        vertical-align: middle;\n",
       "    }\n",
       "\n",
       "    .dataframe tbody tr th {\n",
       "        vertical-align: top;\n",
       "    }\n",
       "\n",
       "    .dataframe thead th {\n",
       "        text-align: right;\n",
       "    }\n",
       "</style>\n",
       "<table border=\"1\" class=\"dataframe\">\n",
       "  <thead>\n",
       "    <tr style=\"text-align: right;\">\n",
       "      <th></th>\n",
       "      <th>tiempo</th>\n",
       "      <th>longitud</th>\n",
       "    </tr>\n",
       "  </thead>\n",
       "  <tbody>\n",
       "    <tr>\n",
       "      <th>0</th>\n",
       "      <td>0.460</td>\n",
       "      <td>1.00</td>\n",
       "    </tr>\n",
       "    <tr>\n",
       "      <th>1</th>\n",
       "      <td>0.462</td>\n",
       "      <td>1.01</td>\n",
       "    </tr>\n",
       "    <tr>\n",
       "      <th>2</th>\n",
       "      <td>0.464</td>\n",
       "      <td>1.02</td>\n",
       "    </tr>\n",
       "  </tbody>\n",
       "</table>\n",
       "</div>"
      ],
      "text/plain": [
       "   tiempo  longitud\n",
       "0   0.460      1.00\n",
       "1   0.462      1.01\n",
       "2   0.464      1.02"
      ]
     },
     "execution_count": 121,
     "metadata": {},
     "output_type": "execute_result"
    }
   ],
   "source": [
    "# PENDIENTE\n",
    "m =(df_recta['longitud'][1] - df_recta['longitud'][0] )/ (df_recta['tiempo'][1] - df_recta['tiempo'][0])\n",
    "print(m)\n",
    "\n",
    "# ORDENADA EN EL ORIGEN\n",
    "n = df_recta['longitud'][0] - m * df_recta['tiempo'][0]\n",
    "\n",
    "# CALCULO DE TIEMPOS/LONGITUDES\n",
    "x = np.linspace(0.46, 0.66, 100)\n",
    "y = m*x + n\n",
    "\n",
    "data = []\n",
    "for i in range(len(x)):\n",
    "    data.append({'tiempo': x[i], 'longitud': y[i]})\n",
    "\n",
    "\n",
    "df_recta = pd.DataFrame(data)\n",
    "df_recta = df_recta.round(3)\n",
    "df_recta.head(3)"
   ]
  },
  {
   "attachments": {},
   "cell_type": "markdown",
   "metadata": {},
   "source": [
    "Recalcamos que todos los valores de las columnas deben de ser tipo float, debido a que se tratan de números decimales.</br>"
   ]
  },
  {
   "cell_type": "code",
   "execution_count": 122,
   "metadata": {},
   "outputs": [
    {
     "data": {
      "text/plain": [
       "tiempo      float64\n",
       "longitud    float64\n",
       "dtype: object"
      ]
     },
     "execution_count": 122,
     "metadata": {},
     "output_type": "execute_result"
    }
   ],
   "source": [
    "df_recta.astype(float)\n",
    "df_recta.dtypes"
   ]
  },
  {
   "attachments": {},
   "cell_type": "markdown",
   "metadata": {},
   "source": [
    "**COMPROBACIÓN PUNTOS HALLADOS EN LA RECTA DE MANERA GRÁFICA**"
   ]
  },
  {
   "attachments": {},
   "cell_type": "markdown",
   "metadata": {},
   "source": [
    "En este caso, se realizará una gráfica con todos los datos del dataframe y serán colocado en el gráfico anterior para comprobar que son puntos de la recta. En este caso, usaremos la libreria Matplotlib."
   ]
  },
  {
   "cell_type": "code",
   "execution_count": 123,
   "metadata": {},
   "outputs": [
    {
     "data": {
      "image/png": "[encoded data removed]",
      "text/plain": [
       "<Figure size 640x480 with 1 Axes>"
      ]
     },
     "metadata": {},
     "output_type": "display_data"
    }
   ],
   "source": [
    "\n",
    "# CREACIÓN DE LA GRÁFICA\n",
    "plt.plot(df_recta['tiempo'], df_recta['longitud'], 'o', label='Datos', color = 'green') # plot(x, y, format): format siendo el color y el tipo de línea\n",
    "\n",
    "# CREACIÓN DE LA RECTA\n",
    "plt.plot(df_recta['tiempo'], m * df_recta['tiempo'] + n, '-', label='Recta de ajuste', color='red')\n",
    "\n",
    "# REALIZACIÓN DE LOS COMPLEMENTOS DE LA GRÁFICA: Título, nombres de los ejes y leyenda\n",
    "plt.title('Gráfica: Longitud/Tiempo')\n",
    "plt.xlabel('Tiempo')\n",
    "plt.ylabel('Longitud')\n",
    "plt.legend()\n",
    "\n",
    "\n",
    "plt.show()"
   ]
  },
  {
   "attachments": {},
   "cell_type": "markdown",
   "metadata": {},
   "source": [
    "### Cálculo de la gravedad y el error"
   ]
  },
  {
   "attachments": {},
   "cell_type": "markdown",
   "metadata": {},
   "source": [
    "Con los tiempos y longitudes ya podemos empezar a determinar el error y la gravedad. Para ello, crearemos dos listas en las cuales mediante un bucle se irán añadiendo los cálculos del error y gravedad a sus correspondientes listas. Tras ello, serán añadidas al dataframe creado anteriormente. </br>"
   ]
  },
  {
   "cell_type": "code",
   "execution_count": 124,
   "metadata": {},
   "outputs": [],
   "source": [
    "g_calculado = []\n",
    "g_error = []\n",
    "for i in range(len(df_recta)):\n",
    "    g = simulacion(df_recta['longitud'][i], df_recta['tiempo'][i])\n",
    "    g_calculado.append(g[0])\n",
    "    g_error.append(g[1])\n",
    "df_recta['g_calculado'] = g_calculado\n",
    "df_recta['g_error'] = g_error"
   ]
  },
  {
   "cell_type": "code",
   "execution_count": 125,
   "metadata": {},
   "outputs": [
    {
     "data": {
      "text/html": [
       "<div>\n",
       "<style scoped>\n",
       "    .dataframe tbody tr th:only-of-type {\n",
       "        vertical-align: middle;\n",
       "    }\n",
       "\n",
       "    .dataframe tbody tr th {\n",
       "        vertical-align: top;\n",
       "    }\n",
       "\n",
       "    .dataframe thead th {\n",
       "        text-align: right;\n",
       "    }\n",
       "</style>\n",
       "<table border=\"1\" class=\"dataframe\">\n",
       "  <thead>\n",
       "    <tr style=\"text-align: right;\">\n",
       "      <th></th>\n",
       "      <th>tiempo</th>\n",
       "      <th>longitud</th>\n",
       "      <th>g_calculado</th>\n",
       "      <th>g_error</th>\n",
       "    </tr>\n",
       "  </thead>\n",
       "  <tbody>\n",
       "    <tr>\n",
       "      <th>0</th>\n",
       "      <td>0.460</td>\n",
       "      <td>1.00</td>\n",
       "      <td>9.451796</td>\n",
       "      <td>0.421677</td>\n",
       "    </tr>\n",
       "    <tr>\n",
       "      <th>1</th>\n",
       "      <td>0.462</td>\n",
       "      <td>1.01</td>\n",
       "      <td>9.463841</td>\n",
       "      <td>0.420269</td>\n",
       "    </tr>\n",
       "    <tr>\n",
       "      <th>2</th>\n",
       "      <td>0.464</td>\n",
       "      <td>1.02</td>\n",
       "      <td>9.475327</td>\n",
       "      <td>0.418851</td>\n",
       "    </tr>\n",
       "    <tr>\n",
       "      <th>3</th>\n",
       "      <td>0.466</td>\n",
       "      <td>1.03</td>\n",
       "      <td>9.486268</td>\n",
       "      <td>0.417423</td>\n",
       "    </tr>\n",
       "    <tr>\n",
       "      <th>4</th>\n",
       "      <td>0.468</td>\n",
       "      <td>1.04</td>\n",
       "      <td>9.496676</td>\n",
       "      <td>0.415987</td>\n",
       "    </tr>\n",
       "  </tbody>\n",
       "</table>\n",
       "</div>"
      ],
      "text/plain": [
       "   tiempo  longitud  g_calculado   g_error\n",
       "0   0.460      1.00     9.451796  0.421677\n",
       "1   0.462      1.01     9.463841  0.420269\n",
       "2   0.464      1.02     9.475327  0.418851\n",
       "3   0.466      1.03     9.486268  0.417423\n",
       "4   0.468      1.04     9.496676  0.415987"
      ]
     },
     "execution_count": 125,
     "metadata": {},
     "output_type": "execute_result"
    }
   ],
   "source": [
    "df_recta.head(5)"
   ]
  },
  {
   "cell_type": "code",
   "execution_count": 126,
   "metadata": {},
   "outputs": [],
   "source": [
    "df_recta.to_csv('data/data_no_faker.csv') # CREACIÓN DE UN CSV"
   ]
  },
  {
   "attachments": {},
   "cell_type": "markdown",
   "metadata": {},
   "source": [
    "### Posible planeta"
   ]
  },
  {
   "attachments": {},
   "cell_type": "markdown",
   "metadata": {},
   "source": [
    "Tras todo lo realizado, ya se han obtenido todos los datos necesarios para calcular la gravedad y poder finalmente usar la función 'planetas_esperado' para obtener el planeta. Pero antes de eso, se realizará una copia del dataframe anterior para no modificarlo.</br>"
   ]
  },
  {
   "cell_type": "code",
   "execution_count": 127,
   "metadata": {},
   "outputs": [],
   "source": [
    "df_recta_1 = df_recta.copy()"
   ]
  },
  {
   "cell_type": "code",
   "execution_count": 128,
   "metadata": {},
   "outputs": [
    {
     "data": {
      "text/plain": [
       "0      Tierra\n",
       "1      Tierra\n",
       "2      Tierra\n",
       "3      Tierra\n",
       "4      Tierra\n",
       "       ...   \n",
       "95    Saturno\n",
       "96    Saturno\n",
       "97    Saturno\n",
       "98    Saturno\n",
       "99    Saturno\n",
       "Name: planeta, Length: 100, dtype: object"
      ]
     },
     "execution_count": 128,
     "metadata": {},
     "output_type": "execute_result"
    }
   ],
   "source": [
    "planeta_pos = []\n",
    "for i in range(100):\n",
    "    planeta = planetas_esperados(df_recta_1['g_calculado'][i], df_recta_1['g_error'][i])\n",
    "    if len(planeta) >= 1:\n",
    "        for i in range(len(planeta)):\n",
    "            planeta = planeta[i].nombre\n",
    "    else:\n",
    "        planeta = 'No se encontró planeta'\n",
    "    planeta_pos.append(planeta)\n",
    "\n",
    "df_recta_1['planeta'] = planeta_pos\n",
    "df_recta_1['planeta'].astype(str)"
   ]
  },
  {
   "cell_type": "code",
   "execution_count": 129,
   "metadata": {},
   "outputs": [
    {
     "data": {
      "text/html": [
       "<div>\n",
       "<style scoped>\n",
       "    .dataframe tbody tr th:only-of-type {\n",
       "        vertical-align: middle;\n",
       "    }\n",
       "\n",
       "    .dataframe tbody tr th {\n",
       "        vertical-align: top;\n",
       "    }\n",
       "\n",
       "    .dataframe thead th {\n",
       "        text-align: right;\n",
       "    }\n",
       "</style>\n",
       "<table border=\"1\" class=\"dataframe\">\n",
       "  <thead>\n",
       "    <tr style=\"text-align: right;\">\n",
       "      <th></th>\n",
       "      <th>tiempo</th>\n",
       "      <th>longitud</th>\n",
       "      <th>g_calculado</th>\n",
       "      <th>g_error</th>\n",
       "      <th>planeta</th>\n",
       "    </tr>\n",
       "  </thead>\n",
       "  <tbody>\n",
       "    <tr>\n",
       "      <th>0</th>\n",
       "      <td>0.460</td>\n",
       "      <td>1.00</td>\n",
       "      <td>9.451796</td>\n",
       "      <td>0.421677</td>\n",
       "      <td>Tierra</td>\n",
       "    </tr>\n",
       "    <tr>\n",
       "      <th>1</th>\n",
       "      <td>0.462</td>\n",
       "      <td>1.01</td>\n",
       "      <td>9.463841</td>\n",
       "      <td>0.420269</td>\n",
       "      <td>Tierra</td>\n",
       "    </tr>\n",
       "    <tr>\n",
       "      <th>2</th>\n",
       "      <td>0.464</td>\n",
       "      <td>1.02</td>\n",
       "      <td>9.475327</td>\n",
       "      <td>0.418851</td>\n",
       "      <td>Tierra</td>\n",
       "    </tr>\n",
       "    <tr>\n",
       "      <th>3</th>\n",
       "      <td>0.466</td>\n",
       "      <td>1.03</td>\n",
       "      <td>9.486268</td>\n",
       "      <td>0.417423</td>\n",
       "      <td>Tierra</td>\n",
       "    </tr>\n",
       "    <tr>\n",
       "      <th>4</th>\n",
       "      <td>0.468</td>\n",
       "      <td>1.04</td>\n",
       "      <td>9.496676</td>\n",
       "      <td>0.415987</td>\n",
       "      <td>Tierra</td>\n",
       "    </tr>\n",
       "    <tr>\n",
       "      <th>...</th>\n",
       "      <td>...</td>\n",
       "      <td>...</td>\n",
       "      <td>...</td>\n",
       "      <td>...</td>\n",
       "      <td>...</td>\n",
       "    </tr>\n",
       "    <tr>\n",
       "      <th>95</th>\n",
       "      <td>0.652</td>\n",
       "      <td>1.96</td>\n",
       "      <td>9.221273</td>\n",
       "      <td>0.286747</td>\n",
       "      <td>Saturno</td>\n",
       "    </tr>\n",
       "    <tr>\n",
       "      <th>96</th>\n",
       "      <td>0.654</td>\n",
       "      <td>1.97</td>\n",
       "      <td>9.211720</td>\n",
       "      <td>0.285558</td>\n",
       "      <td>Saturno</td>\n",
       "    </tr>\n",
       "    <tr>\n",
       "      <th>97</th>\n",
       "      <td>0.656</td>\n",
       "      <td>1.98</td>\n",
       "      <td>9.202112</td>\n",
       "      <td>0.284376</td>\n",
       "      <td>Saturno</td>\n",
       "    </tr>\n",
       "    <tr>\n",
       "      <th>98</th>\n",
       "      <td>0.658</td>\n",
       "      <td>1.99</td>\n",
       "      <td>9.192450</td>\n",
       "      <td>0.283199</td>\n",
       "      <td>Saturno</td>\n",
       "    </tr>\n",
       "    <tr>\n",
       "      <th>99</th>\n",
       "      <td>0.660</td>\n",
       "      <td>2.00</td>\n",
       "      <td>9.182736</td>\n",
       "      <td>0.282027</td>\n",
       "      <td>Saturno</td>\n",
       "    </tr>\n",
       "  </tbody>\n",
       "</table>\n",
       "<p>100 rows × 5 columns</p>\n",
       "</div>"
      ],
      "text/plain": [
       "    tiempo  longitud  g_calculado   g_error  planeta\n",
       "0    0.460      1.00     9.451796  0.421677   Tierra\n",
       "1    0.462      1.01     9.463841  0.420269   Tierra\n",
       "2    0.464      1.02     9.475327  0.418851   Tierra\n",
       "3    0.466      1.03     9.486268  0.417423   Tierra\n",
       "4    0.468      1.04     9.496676  0.415987   Tierra\n",
       "..     ...       ...          ...       ...      ...\n",
       "95   0.652      1.96     9.221273  0.286747  Saturno\n",
       "96   0.654      1.97     9.211720  0.285558  Saturno\n",
       "97   0.656      1.98     9.202112  0.284376  Saturno\n",
       "98   0.658      1.99     9.192450  0.283199  Saturno\n",
       "99   0.660      2.00     9.182736  0.282027  Saturno\n",
       "\n",
       "[100 rows x 5 columns]"
      ]
     },
     "execution_count": 129,
     "metadata": {},
     "output_type": "execute_result"
    }
   ],
   "source": [
    "df_recta_1.head(100)"
   ]
  },
  {
   "cell_type": "code",
   "execution_count": 130,
   "metadata": {},
   "outputs": [],
   "source": [
    "df_recta_1['planeta'] = df_recta_1['planeta'].replace('[]', None)"
   ]
  },
  {
   "cell_type": "code",
   "execution_count": 131,
   "metadata": {},
   "outputs": [
    {
     "data": {
      "text/plain": [
       "0     True\n",
       "1     True\n",
       "2     True\n",
       "3     True\n",
       "4     True\n",
       "      ... \n",
       "95    True\n",
       "96    True\n",
       "97    True\n",
       "98    True\n",
       "99    True\n",
       "Name: planeta, Length: 100, dtype: bool"
      ]
     },
     "execution_count": 131,
     "metadata": {},
     "output_type": "execute_result"
    }
   ],
   "source": [
    "df_recta_1['planeta'].notnull()"
   ]
  },
  {
   "cell_type": "code",
   "execution_count": 132,
   "metadata": {},
   "outputs": [
    {
     "data": {
      "text/plain": [
       "tiempo         float64\n",
       "longitud       float64\n",
       "g_calculado    float64\n",
       "g_error        float64\n",
       "planeta         object\n",
       "dtype: object"
      ]
     },
     "execution_count": 132,
     "metadata": {},
     "output_type": "execute_result"
    }
   ],
   "source": [
    "df_recta_1.dtypes"
   ]
  },
  {
   "cell_type": "code",
   "execution_count": 133,
   "metadata": {},
   "outputs": [
    {
     "data": {
      "text/plain": [
       "Tierra                    67\n",
       "No se encontró planeta    20\n",
       "Saturno                   13\n",
       "Name: planeta, dtype: int64"
      ]
     },
     "execution_count": 133,
     "metadata": {},
     "output_type": "execute_result"
    }
   ],
   "source": [
    "df_recta_1['planeta'].value_counts()\n"
   ]
  },
  {
   "cell_type": "code",
   "execution_count": 144,
   "metadata": {},
   "outputs": [
    {
     "data": {
      "image/png": "[encoded data removed]",
      "text/plain": [
       "<Figure size 640x480 with 1 Axes>"
      ]
     },
     "metadata": {},
     "output_type": "display_data"
    }
   ],
   "source": [
    "df_recta_1['planeta'].value_counts().plot(kind='bar', color='purple')\n",
    "\n",
    "plt.title('Planetas encontrados')\n",
    "plt.xlabel('Planetas')\n",
    "plt.ylabel('Cantidad de veces encontrados')\n",
    "\n",
    "plt.show()"
   ]
  },
  {
   "attachments": {},
   "cell_type": "markdown",
   "metadata": {},
   "source": [
    "## Conclusión"
   ]
  }
 ],
 "metadata": {
  "kernelspec": {
   "display_name": "base",
   "language": "python",
   "name": "python3"
  },
  "language_info": {
   "codemirror_mode": {
    "name": "ipython",
    "version": 3
   },
   "file_extension": ".py",
   "mimetype": "text/x-python",
   "name": "python",
   "nbconvert_exporter": "python",
   "pygments_lexer": "ipython3",
   "version": "3.9.13"
  },
  "orig_nbformat": 4
 },
 "nbformat": 4,
 "nbformat_minor": 2
}
