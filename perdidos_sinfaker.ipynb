{
 "cells": [
  {
   "attachments": {},
   "cell_type": "markdown",
   "metadata": {},
   "source": [
    "# **PERDIDOS EN EL ESPACIO**"
   ]
  },
  {
   "attachments": {},
   "cell_type": "markdown",
   "metadata": {},
   "source": [
    "Este proyecto consiste en localizar el planeta en el que se encuentra la nave."
   ]
  },
  {
   "attachments": {},
   "cell_type": "markdown",
   "metadata": {},
   "source": [
    "## Importaciones necesarias"
   ]
  },
  {
   "attachments": {},
   "cell_type": "markdown",
   "metadata": {},
   "source": []
  },
  {
   "cell_type": "code",
   "execution_count": 9,
   "metadata": {},
   "outputs": [
    {
     "name": "stdout",
     "output_type": "stream",
     "text": [
      "Setup complete\n"
     ]
    }
   ],
   "source": [
    "# Importación de las librerias\n",
    "import random\n",
    "import pandas as pd\n",
    "import numpy as np\n",
    "import matplotlib.pyplot as plt\n",
    "from sklearn.preprocessing import LabelEncoder\n",
    "import plotly.express as px\n",
    "print(\"Setup complete\")"
   ]
  },
  {
   "attachments": {},
   "cell_type": "markdown",
   "metadata": {},
   "source": [
    "## Primera toma de contacto con los planetas"
   ]
  },
  {
   "attachments": {},
   "cell_type": "markdown",
   "metadata": {},
   "source": [
    "### Creación de los planetas"
   ]
  },
  {
   "attachments": {},
   "cell_type": "markdown",
   "metadata": {},
   "source": [
    "Los planetas tienen características similares, mismas variables, pero con distintos datos. Por ello, sería óptimo la creación de clases poniendo como variable la gravedad y nombre de cada uno de ellos."
   ]
  },
  {
   "cell_type": "code",
   "execution_count": 3,
   "metadata": {},
   "outputs": [
    {
     "name": "stdout",
     "output_type": "stream",
     "text": [
      "Planetas cargados\n"
     ]
    }
   ],
   "source": [
    "class Planeta:\n",
    "    def __init__(self, nombre, g): #g: gravedad\n",
    "        self.nombre = nombre\n",
    "        self.g = g\n",
    "\n",
    "planetas = {'Tierra': 9.8 , 'Marte': 3.7, 'Jupiter': 24.8, 'Saturno': 9.0, 'Urano': 8.7, 'Neptuno': 11.0} # Posibles planetas\n",
    "planetas_simulacion = [] # Planetas que se van a usar en la simulación\n",
    "\n",
    "for i in range(len(planetas)):\n",
    "    planetas[i] = Planeta(list(planetas.keys())[i], list(planetas.values())[i])\n",
    "    planetas_simulacion.append(planetas[i])\n",
    "print(\"Planetas cargados\")"
   ]
  },
  {
   "attachments": {},
   "cell_type": "markdown",
   "metadata": {},
   "source": [
    "Con los planetas ya generados se pasaría a la fase de la experimentación y descartar algunos planetas mediante los ejercicios 1 y 2. Aunque primero definimos las operaciones que se utilizarán para el cálculo del error y la gravedad."
   ]
  },
  {
   "attachments": {},
   "cell_type": "markdown",
   "metadata": {},
   "source": [
    "### Cálculos"
   ]
  },
  {
   "cell_type": "code",
   "execution_count": 4,
   "metadata": {},
   "outputs": [],
   "source": [
    "# Operación de la simulación\n",
    "def simulacion(longitud, tiempo):\n",
    "    # CALCULO DE LA GRAVEDAD\n",
    "    g_calculado = (2 * longitud) / (tiempo**2)\n",
    "\n",
    "    # CALCULO DEL ERROR\n",
    "    L_error = 0.01 # VALOR YA DADO\n",
    "    t_error = 0.01 # VALOR YA DADO\n",
    "    dg_dL = 2 / tiempo**2 #Derivada parcial g respecto l\n",
    "    dg_dt = -4 * longitud / tiempo**3 #Derivada parcial g respecto t\n",
    "    g_error = np.sqrt((dg_dL * L_error)**2 + (dg_dt * t_error)**2) # Error de la gravedad\n",
    "    return g_calculado, g_error\n",
    "\n",
    "def planetas_esperados(g_calculado, g_error):\n",
    "    # PLANETAS MAS PROBABLES\n",
    "    planetas_probables = []\n",
    "    for i in range(len(planetas_simulacion)):\n",
    "        if g_calculado - g_error < planetas_simulacion[i].g < g_calculado + g_error:\n",
    "            planetas_probables.append(planetas[i])\n",
    "    return planetas_probables"
   ]
  },
  {
   "attachments": {},
   "cell_type": "markdown",
   "metadata": {},
   "source": [
    "Establecidad las operaciones. Se pasa a la fase de descarte de planetas."
   ]
  },
  {
   "cell_type": "code",
   "execution_count": 61,
   "metadata": {},
   "outputs": [
    {
     "name": "stdout",
     "output_type": "stream",
     "text": [
      "Gravedad calculada:  9.45179584120983\n",
      "Error de la gravedad:  0.42167714144276636\n",
      "Gravedad calculada:  9.182736455463727\n",
      "Error de la gravedad:  0.2820271836997442\n",
      "El planeta se puede encontrar en alguno de los siguientes planetas: \n",
      "  - Tierra\n",
      "  - Saturno\n"
     ]
    }
   ],
   "source": [
    "experimento_a = simulacion(1, 0.46)\n",
    "experimento_a = planetas_esperados(experimento_a[0], experimento_a[1])\n",
    "experimento_b = simulacion(2, 0.66)\n",
    "experimento_b = planetas_esperados(experimento_b[0], experimento_b[1])\n",
    "if experimento_a == experimento_b:\n",
    "    print(\"El planeta en el que se encuentra la nave se trata de \", experimento_a[0].nombre())\n",
    "else:\n",
    "    planetas_probables = []\n",
    "    for i in range(len(experimento_a)):\n",
    "        planetas_probables.append(experimento_a[i])\n",
    "    for i in range(len(experimento_b)):\n",
    "        planetas_probables.append(experimento_b[i])\n",
    "    print(\"El planeta se puede encontrar en alguno de los siguientes planetas: \")\n",
    "    for i in range(len(planetas_probables)):\n",
    "        print('  -', planetas_probables[i].nombre)"
   ]
  },
  {
   "attachments": {},
   "cell_type": "markdown",
   "metadata": {},
   "source": [
    "A continuación la lista se nos ha reducido a 3 posibles planetas por lo tanto comencemos dataset"
   ]
  },
  {
   "attachments": {},
   "cell_type": "markdown",
   "metadata": {},
   "source": [
    "## Creación del DataSet"
   ]
  },
  {
   "attachments": {},
   "cell_type": "markdown",
   "metadata": {},
   "source": [
    "TEXTO"
   ]
  },
  {
   "attachments": {},
   "cell_type": "markdown",
   "metadata": {},
   "source": [
    "### Creacion de distintos instantes de tiempo"
   ]
  },
  {
   "cell_type": "code",
   "execution_count": 46,
   "metadata": {},
   "outputs": [
    {
     "data": {
      "application/vnd.plotly.v1+json": {
       "config": {
        "plotlyServerURL": "https://plot.ly"
       },
       "data": [
        {
         "hovertemplate": "tiempo=%{x}<br>longitud=%{y}<extra></extra>",
         "legendgroup": "",
         "marker": {
          "color": "#636efa",
          "symbol": "circle"
         },
         "mode": "markers",
         "name": "",
         "orientation": "v",
         "showlegend": false,
         "type": "scatter",
         "x": [
          1,
          2
         ],
         "xaxis": "x",
         "y": [
          0.46,
          0.66
         ],
         "yaxis": "y"
        },
        {
         "hovertemplate": "x=%{x}<br>y=%{y}<extra></extra>",
         "legendgroup": "",
         "line": {
          "color": "#636efa",
          "dash": "solid"
         },
         "marker": {
          "symbol": "circle"
         },
         "mode": "lines",
         "name": "",
         "orientation": "v",
         "showlegend": false,
         "type": "scatter",
         "x": [
          1,
          2
         ],
         "xaxis": "x",
         "y": [
          0.4600000000000002,
          0.6600000000000003
         ],
         "yaxis": "y"
        }
       ],
       "layout": {
        "legend": {
         "tracegroupgap": 0
        },
        "margin": {
         "t": 60
        },
        "template": {
         "data": {
          "bar": [
           {
            "error_x": {
             "color": "#2a3f5f"
            },
            "error_y": {
             "color": "#2a3f5f"
            },
            "marker": {
             "line": {
              "color": "#E5ECF6",
              "width": 0.5
             },
             "pattern": {
              "fillmode": "overlay",
              "size": 10,
              "solidity": 0.2
             }
            },
            "type": "bar"
           }
          ],
          "barpolar": [
           {
            "marker": {
             "line": {
              "color": "#E5ECF6",
              "width": 0.5
             },
             "pattern": {
              "fillmode": "overlay",
              "size": 10,
              "solidity": 0.2
             }
            },
            "type": "barpolar"
           }
          ],
          "carpet": [
           {
            "aaxis": {
             "endlinecolor": "#2a3f5f",
             "gridcolor": "white",
             "linecolor": "white",
             "minorgridcolor": "white",
             "startlinecolor": "#2a3f5f"
            },
            "baxis": {
             "endlinecolor": "#2a3f5f",
             "gridcolor": "white",
             "linecolor": "white",
             "minorgridcolor": "white",
             "startlinecolor": "#2a3f5f"
            },
            "type": "carpet"
           }
          ],
          "choropleth": [
           {
            "colorbar": {
             "outlinewidth": 0,
             "ticks": ""
            },
            "type": "choropleth"
           }
          ],
          "contour": [
           {
            "colorbar": {
             "outlinewidth": 0,
             "ticks": ""
            },
            "colorscale": [
             [
              0,
              "#0d0887"
             ],
             [
              0.1111111111111111,
              "#46039f"
             ],
             [
              0.2222222222222222,
              "#7201a8"
             ],
             [
              0.3333333333333333,
              "#9c179e"
             ],
             [
              0.4444444444444444,
              "#bd3786"
             ],
             [
              0.5555555555555556,
              "#d8576b"
             ],
             [
              0.6666666666666666,
              "#ed7953"
             ],
             [
              0.7777777777777778,
              "#fb9f3a"
             ],
             [
              0.8888888888888888,
              "#fdca26"
             ],
             [
              1,
              "#f0f921"
             ]
            ],
            "type": "contour"
           }
          ],
          "contourcarpet": [
           {
            "colorbar": {
             "outlinewidth": 0,
             "ticks": ""
            },
            "type": "contourcarpet"
           }
          ],
          "heatmap": [
           {
            "colorbar": {
             "outlinewidth": 0,
             "ticks": ""
            },
            "colorscale": [
             [
              0,
              "#0d0887"
             ],
             [
              0.1111111111111111,
              "#46039f"
             ],
             [
              0.2222222222222222,
              "#7201a8"
             ],
             [
              0.3333333333333333,
              "#9c179e"
             ],
             [
              0.4444444444444444,
              "#bd3786"
             ],
             [
              0.5555555555555556,
              "#d8576b"
             ],
             [
              0.6666666666666666,
              "#ed7953"
             ],
             [
              0.7777777777777778,
              "#fb9f3a"
             ],
             [
              0.8888888888888888,
              "#fdca26"
             ],
             [
              1,
              "#f0f921"
             ]
            ],
            "type": "heatmap"
           }
          ],
          "heatmapgl": [
           {
            "colorbar": {
             "outlinewidth": 0,
             "ticks": ""
            },
            "colorscale": [
             [
              0,
              "#0d0887"
             ],
             [
              0.1111111111111111,
              "#46039f"
             ],
             [
              0.2222222222222222,
              "#7201a8"
             ],
             [
              0.3333333333333333,
              "#9c179e"
             ],
             [
              0.4444444444444444,
              "#bd3786"
             ],
             [
              0.5555555555555556,
              "#d8576b"
             ],
             [
              0.6666666666666666,
              "#ed7953"
             ],
             [
              0.7777777777777778,
              "#fb9f3a"
             ],
             [
              0.8888888888888888,
              "#fdca26"
             ],
             [
              1,
              "#f0f921"
             ]
            ],
            "type": "heatmapgl"
           }
          ],
          "histogram": [
           {
            "marker": {
             "pattern": {
              "fillmode": "overlay",
              "size": 10,
              "solidity": 0.2
             }
            },
            "type": "histogram"
           }
          ],
          "histogram2d": [
           {
            "colorbar": {
             "outlinewidth": 0,
             "ticks": ""
            },
            "colorscale": [
             [
              0,
              "#0d0887"
             ],
             [
              0.1111111111111111,
              "#46039f"
             ],
             [
              0.2222222222222222,
              "#7201a8"
             ],
             [
              0.3333333333333333,
              "#9c179e"
             ],
             [
              0.4444444444444444,
              "#bd3786"
             ],
             [
              0.5555555555555556,
              "#d8576b"
             ],
             [
              0.6666666666666666,
              "#ed7953"
             ],
             [
              0.7777777777777778,
              "#fb9f3a"
             ],
             [
              0.8888888888888888,
              "#fdca26"
             ],
             [
              1,
              "#f0f921"
             ]
            ],
            "type": "histogram2d"
           }
          ],
          "histogram2dcontour": [
           {
            "colorbar": {
             "outlinewidth": 0,
             "ticks": ""
            },
            "colorscale": [
             [
              0,
              "#0d0887"
             ],
             [
              0.1111111111111111,
              "#46039f"
             ],
             [
              0.2222222222222222,
              "#7201a8"
             ],
             [
              0.3333333333333333,
              "#9c179e"
             ],
             [
              0.4444444444444444,
              "#bd3786"
             ],
             [
              0.5555555555555556,
              "#d8576b"
             ],
             [
              0.6666666666666666,
              "#ed7953"
             ],
             [
              0.7777777777777778,
              "#fb9f3a"
             ],
             [
              0.8888888888888888,
              "#fdca26"
             ],
             [
              1,
              "#f0f921"
             ]
            ],
            "type": "histogram2dcontour"
           }
          ],
          "mesh3d": [
           {
            "colorbar": {
             "outlinewidth": 0,
             "ticks": ""
            },
            "type": "mesh3d"
           }
          ],
          "parcoords": [
           {
            "line": {
             "colorbar": {
              "outlinewidth": 0,
              "ticks": ""
             }
            },
            "type": "parcoords"
           }
          ],
          "pie": [
           {
            "automargin": true,
            "type": "pie"
           }
          ],
          "scatter": [
           {
            "fillpattern": {
             "fillmode": "overlay",
             "size": 10,
             "solidity": 0.2
            },
            "type": "scatter"
           }
          ],
          "scatter3d": [
           {
            "line": {
             "colorbar": {
              "outlinewidth": 0,
              "ticks": ""
             }
            },
            "marker": {
             "colorbar": {
              "outlinewidth": 0,
              "ticks": ""
             }
            },
            "type": "scatter3d"
           }
          ],
          "scattercarpet": [
           {
            "marker": {
             "colorbar": {
              "outlinewidth": 0,
              "ticks": ""
             }
            },
            "type": "scattercarpet"
           }
          ],
          "scattergeo": [
           {
            "marker": {
             "colorbar": {
              "outlinewidth": 0,
              "ticks": ""
             }
            },
            "type": "scattergeo"
           }
          ],
          "scattergl": [
           {
            "marker": {
             "colorbar": {
              "outlinewidth": 0,
              "ticks": ""
             }
            },
            "type": "scattergl"
           }
          ],
          "scattermapbox": [
           {
            "marker": {
             "colorbar": {
              "outlinewidth": 0,
              "ticks": ""
             }
            },
            "type": "scattermapbox"
           }
          ],
          "scatterpolar": [
           {
            "marker": {
             "colorbar": {
              "outlinewidth": 0,
              "ticks": ""
             }
            },
            "type": "scatterpolar"
           }
          ],
          "scatterpolargl": [
           {
            "marker": {
             "colorbar": {
              "outlinewidth": 0,
              "ticks": ""
             }
            },
            "type": "scatterpolargl"
           }
          ],
          "scatterternary": [
           {
            "marker": {
             "colorbar": {
              "outlinewidth": 0,
              "ticks": ""
             }
            },
            "type": "scatterternary"
           }
          ],
          "surface": [
           {
            "colorbar": {
             "outlinewidth": 0,
             "ticks": ""
            },
            "colorscale": [
             [
              0,
              "#0d0887"
             ],
             [
              0.1111111111111111,
              "#46039f"
             ],
             [
              0.2222222222222222,
              "#7201a8"
             ],
             [
              0.3333333333333333,
              "#9c179e"
             ],
             [
              0.4444444444444444,
              "#bd3786"
             ],
             [
              0.5555555555555556,
              "#d8576b"
             ],
             [
              0.6666666666666666,
              "#ed7953"
             ],
             [
              0.7777777777777778,
              "#fb9f3a"
             ],
             [
              0.8888888888888888,
              "#fdca26"
             ],
             [
              1,
              "#f0f921"
             ]
            ],
            "type": "surface"
           }
          ],
          "table": [
           {
            "cells": {
             "fill": {
              "color": "#EBF0F8"
             },
             "line": {
              "color": "white"
             }
            },
            "header": {
             "fill": {
              "color": "#C8D4E3"
             },
             "line": {
              "color": "white"
             }
            },
            "type": "table"
           }
          ]
         },
         "layout": {
          "annotationdefaults": {
           "arrowcolor": "#2a3f5f",
           "arrowhead": 0,
           "arrowwidth": 1
          },
          "autotypenumbers": "strict",
          "coloraxis": {
           "colorbar": {
            "outlinewidth": 0,
            "ticks": ""
           }
          },
          "colorscale": {
           "diverging": [
            [
             0,
             "#8e0152"
            ],
            [
             0.1,
             "#c51b7d"
            ],
            [
             0.2,
             "#de77ae"
            ],
            [
             0.3,
             "#f1b6da"
            ],
            [
             0.4,
             "#fde0ef"
            ],
            [
             0.5,
             "#f7f7f7"
            ],
            [
             0.6,
             "#e6f5d0"
            ],
            [
             0.7,
             "#b8e186"
            ],
            [
             0.8,
             "#7fbc41"
            ],
            [
             0.9,
             "#4d9221"
            ],
            [
             1,
             "#276419"
            ]
           ],
           "sequential": [
            [
             0,
             "#0d0887"
            ],
            [
             0.1111111111111111,
             "#46039f"
            ],
            [
             0.2222222222222222,
             "#7201a8"
            ],
            [
             0.3333333333333333,
             "#9c179e"
            ],
            [
             0.4444444444444444,
             "#bd3786"
            ],
            [
             0.5555555555555556,
             "#d8576b"
            ],
            [
             0.6666666666666666,
             "#ed7953"
            ],
            [
             0.7777777777777778,
             "#fb9f3a"
            ],
            [
             0.8888888888888888,
             "#fdca26"
            ],
            [
             1,
             "#f0f921"
            ]
           ],
           "sequentialminus": [
            [
             0,
             "#0d0887"
            ],
            [
             0.1111111111111111,
             "#46039f"
            ],
            [
             0.2222222222222222,
             "#7201a8"
            ],
            [
             0.3333333333333333,
             "#9c179e"
            ],
            [
             0.4444444444444444,
             "#bd3786"
            ],
            [
             0.5555555555555556,
             "#d8576b"
            ],
            [
             0.6666666666666666,
             "#ed7953"
            ],
            [
             0.7777777777777778,
             "#fb9f3a"
            ],
            [
             0.8888888888888888,
             "#fdca26"
            ],
            [
             1,
             "#f0f921"
            ]
           ]
          },
          "colorway": [
           "#636efa",
           "#EF553B",
           "#00cc96",
           "#ab63fa",
           "#FFA15A",
           "#19d3f3",
           "#FF6692",
           "#B6E880",
           "#FF97FF",
           "#FECB52"
          ],
          "font": {
           "color": "#2a3f5f"
          },
          "geo": {
           "bgcolor": "white",
           "lakecolor": "white",
           "landcolor": "#E5ECF6",
           "showlakes": true,
           "showland": true,
           "subunitcolor": "white"
          },
          "hoverlabel": {
           "align": "left"
          },
          "hovermode": "closest",
          "mapbox": {
           "style": "light"
          },
          "paper_bgcolor": "white",
          "plot_bgcolor": "#E5ECF6",
          "polar": {
           "angularaxis": {
            "gridcolor": "white",
            "linecolor": "white",
            "ticks": ""
           },
           "bgcolor": "#E5ECF6",
           "radialaxis": {
            "gridcolor": "white",
            "linecolor": "white",
            "ticks": ""
           }
          },
          "scene": {
           "xaxis": {
            "backgroundcolor": "#E5ECF6",
            "gridcolor": "white",
            "gridwidth": 2,
            "linecolor": "white",
            "showbackground": true,
            "ticks": "",
            "zerolinecolor": "white"
           },
           "yaxis": {
            "backgroundcolor": "#E5ECF6",
            "gridcolor": "white",
            "gridwidth": 2,
            "linecolor": "white",
            "showbackground": true,
            "ticks": "",
            "zerolinecolor": "white"
           },
           "zaxis": {
            "backgroundcolor": "#E5ECF6",
            "gridcolor": "white",
            "gridwidth": 2,
            "linecolor": "white",
            "showbackground": true,
            "ticks": "",
            "zerolinecolor": "white"
           }
          },
          "shapedefaults": {
           "line": {
            "color": "#2a3f5f"
           }
          },
          "ternary": {
           "aaxis": {
            "gridcolor": "white",
            "linecolor": "white",
            "ticks": ""
           },
           "baxis": {
            "gridcolor": "white",
            "linecolor": "white",
            "ticks": ""
           },
           "bgcolor": "#E5ECF6",
           "caxis": {
            "gridcolor": "white",
            "linecolor": "white",
            "ticks": ""
           }
          },
          "title": {
           "x": 0.05
          },
          "xaxis": {
           "automargin": true,
           "gridcolor": "white",
           "linecolor": "white",
           "ticks": "",
           "title": {
            "standoff": 15
           },
           "zerolinecolor": "white",
           "zerolinewidth": 2
          },
          "yaxis": {
           "automargin": true,
           "gridcolor": "white",
           "linecolor": "white",
           "ticks": "",
           "title": {
            "standoff": 15
           },
           "zerolinecolor": "white",
           "zerolinewidth": 2
          }
         }
        },
        "xaxis": {
         "anchor": "y",
         "domain": [
          0,
          1
         ],
         "title": {
          "text": "tiempo"
         }
        },
        "yaxis": {
         "anchor": "x",
         "domain": [
          0,
          1
         ],
         "title": {
          "text": "longitud"
         }
        }
       }
      }
     },
     "metadata": {},
     "output_type": "display_data"
    }
   ],
   "source": [
    "df_recta = pd.DataFrame({'longitud': [0.46, 0.66], 'tiempo': [1,2]})\n",
    "coefficients = np.polyfit(df['tiempo'], df['longitud'], 1) # polyfit(x, y, degree) sirve para calcular los coeficientes de la ecuación de la recta (y = mx + b)\n",
    "m = coefficients[0]\n",
    "b = coefficients[1]\n",
    "fig = px.scatter(df_recta, x='tiempo', y='longitud')\n",
    "fig.add_trace(px.line(x=df_recta['tiempo'], y=m*df_recta['tiempo'] + b).data[0])\n",
    "fig.show()"
   ]
  },
  {
   "cell_type": "code",
   "execution_count": 56,
   "metadata": {},
   "outputs": [],
   "source": [
    "# Generar valores de x equidistantes en el intervalo [0.46, 0.66]\n",
    "x = np.linspace(0.46, 0.66, 100)\n",
    "\n",
    "# Calcular los valores correspondientes de y a partir de la ecuación de la recta\n",
    "y = 5*x - 1.3\n",
    "\n",
    "# Crear una lista de diccionarios con los valores de x e y\n",
    "data = []\n",
    "for i in range(len(x)):\n",
    "    data.append({'tiempo': x[i], 'longitud': y[i]})\n",
    "\n",
    "\n",
    "df_recta = pd.DataFrame(data)"
   ]
  },
  {
   "cell_type": "code",
   "execution_count": 55,
   "metadata": {},
   "outputs": [
    {
     "data": {
      "text/html": [
       "<div>\n",
       "<style scoped>\n",
       "    .dataframe tbody tr th:only-of-type {\n",
       "        vertical-align: middle;\n",
       "    }\n",
       "\n",
       "    .dataframe tbody tr th {\n",
       "        vertical-align: top;\n",
       "    }\n",
       "\n",
       "    .dataframe thead th {\n",
       "        text-align: right;\n",
       "    }\n",
       "</style>\n",
       "<table border=\"1\" class=\"dataframe\">\n",
       "  <thead>\n",
       "    <tr style=\"text-align: right;\">\n",
       "      <th></th>\n",
       "      <th>tiempo</th>\n",
       "      <th>longitud</th>\n",
       "    </tr>\n",
       "  </thead>\n",
       "  <tbody>\n",
       "    <tr>\n",
       "      <th>0</th>\n",
       "      <td>0.460000</td>\n",
       "      <td>1.000000</td>\n",
       "    </tr>\n",
       "    <tr>\n",
       "      <th>1</th>\n",
       "      <td>0.462020</td>\n",
       "      <td>1.010101</td>\n",
       "    </tr>\n",
       "    <tr>\n",
       "      <th>2</th>\n",
       "      <td>0.464040</td>\n",
       "      <td>1.020202</td>\n",
       "    </tr>\n",
       "    <tr>\n",
       "      <th>3</th>\n",
       "      <td>0.466061</td>\n",
       "      <td>1.030303</td>\n",
       "    </tr>\n",
       "    <tr>\n",
       "      <th>4</th>\n",
       "      <td>0.468081</td>\n",
       "      <td>1.040404</td>\n",
       "    </tr>\n",
       "  </tbody>\n",
       "</table>\n",
       "</div>"
      ],
      "text/plain": [
       "     tiempo  longitud\n",
       "0  0.460000  1.000000\n",
       "1  0.462020  1.010101\n",
       "2  0.464040  1.020202\n",
       "3  0.466061  1.030303\n",
       "4  0.468081  1.040404"
      ]
     },
     "execution_count": 55,
     "metadata": {},
     "output_type": "execute_result"
    }
   ],
   "source": [
    "\n",
    "df_recta.head()\n"
   ]
  },
  {
   "cell_type": "code",
   "execution_count": 57,
   "metadata": {},
   "outputs": [
    {
     "data": {
      "text/plain": [
       "tiempo      float64\n",
       "longitud    float64\n",
       "dtype: object"
      ]
     },
     "execution_count": 57,
     "metadata": {},
     "output_type": "execute_result"
    }
   ],
   "source": [
    "df_recta.astype(float)\n",
    "df_recta.dtypes"
   ]
  },
  {
   "cell_type": "code",
   "execution_count": 59,
   "metadata": {},
   "outputs": [
    {
     "name": "stdout",
     "output_type": "stream",
     "text": [
      "Gravedad calculada:  9.451795841209831\n",
      "Error de la gravedad:  0.42167714144276647\n",
      "Gravedad calculada:  9.451795841209831\n",
      "Error de la gravedad:  0.42167714144276647\n",
      "Gravedad calculada:  9.463959426189625\n",
      "Error de la gravedad:  0.42025457149600465\n",
      "Gravedad calculada:  9.463959426189625\n",
      "Error de la gravedad:  0.42025457149600465\n",
      "Gravedad calculada:  9.475553375539143\n",
      "Error de la gravedad:  0.4188218759776934\n",
      "Gravedad calculada:  9.475553375539143\n",
      "Error de la gravedad:  0.4188218759776934\n",
      "Gravedad calculada:  9.486591100867319\n",
      "Error de la gravedad:  0.41737970364728616\n",
      "Gravedad calculada:  9.486591100867319\n",
      "Error de la gravedad:  0.41737970364728616\n",
      "Gravedad calculada:  9.497085679043023\n",
      "Error de la gravedad:  0.4159286799655456\n",
      "Gravedad calculada:  9.497085679043023\n",
      "Error de la gravedad:  0.4159286799655456\n",
      "Gravedad calculada:  9.507049861595602\n",
      "Error de la gravedad:  0.41446940789254977\n",
      "Gravedad calculada:  9.507049861595602\n",
      "Error de la gravedad:  0.41446940789254977\n",
      "Gravedad calculada:  9.516496083817673\n",
      "Error de la gravedad:  0.41300246865825013\n",
      "Gravedad calculada:  9.516496083817673\n",
      "Error de la gravedad:  0.41300246865825013\n",
      "Gravedad calculada:  9.525436473580665\n",
      "Error de la gravedad:  0.4115284225064837\n",
      "Gravedad calculada:  9.525436473580665\n",
      "Error de la gravedad:  0.4115284225064837\n",
      "Gravedad calculada:  9.53388285987325\n",
      "Error de la gravedad:  0.41004780941332025\n",
      "Gravedad calculada:  9.53388285987325\n",
      "Error de la gravedad:  0.41004780941332025\n",
      "Gravedad calculada:  9.541846781072445\n",
      "Error de la gravedad:  0.4085611497806092\n",
      "Gravedad calculada:  9.541846781072445\n",
      "Error de la gravedad:  0.4085611497806092\n",
      "Gravedad calculada:  9.549339492956708\n",
      "Error de la gravedad:  0.40706894510555736\n",
      "Gravedad calculada:  9.549339492956708\n",
      "Error de la gravedad:  0.40706894510555736\n",
      "Gravedad calculada:  9.556371976470087\n",
      "Error de la gravedad:  0.40557167862715643\n",
      "Gravedad calculada:  9.556371976470087\n",
      "Error de la gravedad:  0.40557167862715643\n",
      "Gravedad calculada:  9.562954945246014\n",
      "Error de la gravedad:  0.40406981595024544\n",
      "Gravedad calculada:  9.562954945246014\n",
      "Error de la gravedad:  0.40406981595024544\n",
      "Gravedad calculada:  9.569098852899096\n",
      "Error de la gravedad:  0.4025638056479782\n",
      "Gravedad calculada:  9.569098852899096\n",
      "Error de la gravedad:  0.4025638056479782\n",
      "Gravedad calculada:  9.574813900092932\n",
      "Error de la gravedad:  0.4010540798434395\n",
      "Gravedad calculada:  9.574813900092932\n",
      "Error de la gravedad:  0.4010540798434395\n",
      "Gravedad calculada:  9.580110041391576\n",
      "Error de la gravedad:  0.3995410547711268\n",
      "Gravedad calculada:  9.580110041391576\n",
      "Error de la gravedad:  0.3995410547711268\n",
      "Gravedad calculada:  9.584996991902129\n",
      "Error de la gravedad:  0.39802513131900324\n",
      "Gravedad calculada:  9.584996991902129\n",
      "Error de la gravedad:  0.39802513131900324\n",
      "Gravedad calculada:  9.589484233715538\n",
      "Error de la gravedad:  0.39650669555178975\n",
      "Gravedad calculada:  9.589484233715538\n",
      "Error de la gravedad:  0.39650669555178975\n",
      "Gravedad calculada:  9.59358102215245\n",
      "Error de la gravedad:  0.3949861192161575\n",
      "Gravedad calculada:  9.59358102215245\n",
      "Error de la gravedad:  0.3949861192161575\n",
      "Gravedad calculada:  9.597296391820755\n",
      "Error de la gravedad:  0.3934637602284497\n",
      "Gravedad calculada:  9.597296391820755\n",
      "Error de la gravedad:  0.3934637602284497\n",
      "Gravedad calculada:  9.600639162491126\n",
      "Error de la gravedad:  0.3919399631455461\n",
      "Gravedad calculada:  9.600639162491126\n",
      "Error de la gravedad:  0.3919399631455461\n",
      "Gravedad calculada:  9.603617944796659\n",
      "Error de la gravedad:  0.39041505961946227\n",
      "Gravedad calculada:  9.603617944796659\n",
      "Error de la gravedad:  0.39041505961946227\n",
      "Gravedad calculada:  9.606241145762578\n",
      "Error de la gravedad:  0.38888936883625574\n",
      "Gravedad calculada:  9.606241145762578\n",
      "Error de la gravedad:  0.38888936883625574\n",
      "Gravedad calculada:  9.608516974171561\n",
      "Error de la gravedad:  0.3873631979397889\n",
      "Gravedad calculada:  9.608516974171561\n",
      "Error de la gravedad:  0.3873631979397889\n",
      "Gravedad calculada:  9.610453445770194\n",
      "Error de la gravedad:  0.3858368424408853\n",
      "Gravedad calculada:  9.610453445770194\n",
      "Error de la gravedad:  0.3858368424408853\n",
      "Gravedad calculada:  9.612058388321834\n",
      "Error de la gravedad:  0.38431058661239303\n",
      "Gravedad calculada:  9.612058388321834\n",
      "Error de la gravedad:  0.38431058661239303\n",
      "Gravedad calculada:  9.613339446510912\n",
      "Error de la gravedad:  0.38278470387065267\n",
      "Gravedad calculada:  9.613339446510912\n",
      "Error de la gravedad:  0.38278470387065267\n",
      "Gravedad calculada:  9.614304086703543\n",
      "Error de la gravedad:  0.38125945714384857\n",
      "Gravedad calculada:  9.614304086703543\n",
      "Error de la gravedad:  0.38125945714384857\n",
      "Gravedad calculada:  9.614959601569165\n",
      "Error de la gravedad:  0.3797350992277088\n",
      "Gravedad calculada:  9.614959601569165\n",
      "Error de la gravedad:  0.3797350992277088\n",
      "Gravedad calculada:  9.61531311456776\n",
      "Error de la gravedad:  0.37821187312899934\n",
      "Gravedad calculada:  9.61531311456776\n",
      "Error de la gravedad:  0.37821187312899934\n",
      "Gravedad calculada:  9.615371584306954\n",
      "Error de la gravedad:  0.37669001239724276\n",
      "Gravedad calculada:  9.615371584306954\n",
      "Error de la gravedad:  0.37669001239724276\n",
      "Gravedad calculada:  9.615141808773283\n",
      "Error de la gravedad:  0.3751697414450796\n",
      "Gravedad calculada:  9.615141808773283\n",
      "Error de la gravedad:  0.3751697414450796\n",
      "Gravedad calculada:  9.61463042944163\n",
      "Error de la gravedad:  0.37365127585767083\n",
      "Gravedad calculada:  9.61463042944163\n",
      "Error de la gravedad:  0.37365127585767083\n",
      "Gravedad calculada:  9.613843935266784\n",
      "Error de la gravedad:  0.3721348226915306\n",
      "Gravedad calculada:  9.613843935266784\n",
      "Error de la gravedad:  0.3721348226915306\n",
      "Gravedad calculada:  9.612788666560855\n",
      "Error de la gravedad:  0.37062058076315946\n",
      "Gravedad calculada:  9.612788666560855\n",
      "Error de la gravedad:  0.37062058076315946\n",
      "Gravedad calculada:  9.611470818760237\n",
      "Error de la gravedad:  0.3691087409278409\n",
      "Gravedad calculada:  9.611470818760237\n",
      "Error de la gravedad:  0.3691087409278409\n",
      "Gravedad calculada:  9.609896446085568\n",
      "Error de la gravedad:  0.3675994863489447\n",
      "Gravedad calculada:  9.609896446085568\n",
      "Error de la gravedad:  0.3675994863489447\n",
      "Gravedad calculada:  9.608071465098165\n",
      "Error de la gravedad:  0.366092992758074\n",
      "Gravedad calculada:  9.608071465098165\n",
      "Error de la gravedad:  0.366092992758074\n",
      "Gravedad calculada:  9.606001658156092\n",
      "Error de la gravedad:  0.3645894287063769\n",
      "Gravedad calculada:  9.606001658156092\n",
      "Error de la gravedad:  0.3645894287063769\n",
      "Gravedad calculada:  9.60369267677311\n",
      "Error de la gravedad:  0.363088955807332\n",
      "Gravedad calculada:  9.60369267677311\n",
      "Error de la gravedad:  0.363088955807332\n",
      "Gravedad calculada:  9.601150044883509\n",
      "Error de la gravedad:  0.36159172897131125\n",
      "Gravedad calculada:  9.601150044883509\n",
      "Error de la gravedad:  0.36159172897131125\n",
      "Gravedad calculada:  9.59837916201579\n",
      "Error de la gravedad:  0.3600978966322043\n",
      "Gravedad calculada:  9.59837916201579\n",
      "Error de la gravedad:  0.3600978966322043\n",
      "Gravedad calculada:  9.595385306377993\n",
      "Error de la gravedad:  0.3586076009663855\n",
      "Gravedad calculada:  9.595385306377993\n",
      "Error de la gravedad:  0.3586076009663855\n",
      "Gravedad calculada:  9.59217363785744\n",
      "Error de la gravedad:  0.35712097810429\n",
      "Gravedad calculada:  9.59217363785744\n",
      "Error de la gravedad:  0.35712097810429\n",
      "Gravedad calculada:  9.588749200937567\n",
      "Error de la gravedad:  0.35563815833485884\n",
      "Gravedad calculada:  9.588749200937567\n",
      "Error de la gravedad:  0.35563815833485884\n",
      "Gravedad calculada:  9.585116927534335\n",
      "Error de la gravedad:  0.35415926630310085\n",
      "Gravedad calculada:  9.585116927534335\n",
      "Error de la gravedad:  0.35415926630310085\n",
      "Gravedad calculada:  9.581281639754756\n",
      "Error de la gravedad:  0.3526844212010135\n",
      "Gravedad calculada:  9.581281639754756\n",
      "Error de la gravedad:  0.3526844212010135\n",
      "Gravedad calculada:  9.577248052579847\n",
      "Error de la gravedad:  0.3512137369520904\n",
      "Gravedad calculada:  9.577248052579847\n",
      "Error de la gravedad:  0.3512137369520904\n",
      "Gravedad calculada:  9.573020776474406\n",
      "Error de la gravedad:  0.34974732238964357\n",
      "Gravedad calculada:  9.573020776474406\n",
      "Error de la gravedad:  0.34974732238964357\n",
      "Gravedad calculada:  9.568604319925749\n",
      "Error de la gravedad:  0.34828528142915127\n",
      "Gravedad calculada:  9.568604319925749\n",
      "Error de la gravedad:  0.34828528142915127\n",
      "Gravedad calculada:  9.564003091913628\n",
      "Error de la gravedad:  0.3468277132348414\n",
      "Gravedad calculada:  9.564003091913628\n",
      "Error de la gravedad:  0.3468277132348414\n",
      "Gravedad calculada:  9.559221404313352\n",
      "Error de la gravedad:  0.3453747123807086\n",
      "Gravedad calculada:  9.559221404313352\n",
      "Error de la gravedad:  0.3453747123807086\n",
      "Gravedad calculada:  9.554263474234165\n",
      "Error de la gravedad:  0.34392636900615864\n",
      "Gravedad calculada:  9.554263474234165\n",
      "Error de la gravedad:  0.34392636900615864\n",
      "Gravedad calculada:  9.549133426294816\n",
      "Error de la gravedad:  0.34248276896646634\n",
      "Gravedad calculada:  9.549133426294816\n",
      "Error de la gravedad:  0.34248276896646634\n",
      "Gravedad calculada:  9.543835294838164\n",
      "Error de la gravedad:  0.34104399397822366\n",
      "Gravedad calculada:  9.543835294838164\n",
      "Error de la gravedad:  0.34104399397822366\n",
      "Gravedad calculada:  9.538373026086694\n",
      "Error de la gravedad:  0.33961012175995386\n",
      "Gravedad calculada:  9.538373026086694\n",
      "Error de la gravedad:  0.33961012175995386\n",
      "Gravedad calculada:  9.532750480240647\n",
      "Error de la gravedad:  0.33818122616805507\n",
      "Gravedad calculada:  9.532750480240647\n",
      "Error de la gravedad:  0.33818122616805507\n",
      "Gravedad calculada:  9.526971433520504\n",
      "Error de la gravedad:  0.33675737732823635\n",
      "Gravedad calculada:  9.526971433520504\n",
      "Error de la gravedad:  0.33675737732823635\n",
      "Gravedad calculada:  9.521039580155417\n",
      "Error de la gravedad:  0.3353386417625981\n",
      "Gravedad calculada:  9.521039580155417\n",
      "Error de la gravedad:  0.3353386417625981\n",
      "Gravedad calculada:  9.514958534319241\n",
      "Error de la gravedad:  0.3339250825125083\n",
      "Gravedad calculada:  9.514958534319241\n",
      "Error de la gravedad:  0.3339250825125083\n",
      "Gravedad calculada:  9.508731832015664\n",
      "Error de la gravedad:  0.33251675925741847\n",
      "Gravedad calculada:  9.508731832015664\n",
      "Error de la gravedad:  0.33251675925741847\n",
      "Gravedad calculada:  9.502362932913918\n",
      "Error de la gravedad:  0.33111372842975495\n",
      "Gravedad calculada:  9.502362932913918\n",
      "Error de la gravedad:  0.33111372842975495\n",
      "Gravedad calculada:  9.495855222136525\n",
      "Error de la gravedad:  0.3297160433260226\n",
      "Gravedad calculada:  9.495855222136525\n",
      "Error de la gravedad:  0.3297160433260226\n",
      "Gravedad calculada:  9.489212012000499\n",
      "Error de la gravedad:  0.3283237542142494\n",
      "Gravedad calculada:  9.489212012000499\n",
      "Error de la gravedad:  0.3283237542142494\n",
      "Gravedad calculada:  9.482436543713286\n",
      "Error de la gravedad:  0.3269369084378938\n",
      "Gravedad calculada:  9.482436543713286\n",
      "Error de la gravedad:  0.3269369084378938\n",
      "Gravedad calculada:  9.475531989024818\n",
      "Error de la gravedad:  0.325555550516338\n",
      "Gravedad calculada:  9.475531989024818\n",
      "Error de la gravedad:  0.325555550516338\n",
      "Gravedad calculada:  9.468501451836888\n",
      "Error de la gravedad:  0.32417972224208014\n",
      "Gravedad calculada:  9.468501451836888\n",
      "Error de la gravedad:  0.32417972224208014\n",
      "Gravedad calculada:  9.461347969771126\n",
      "Error de la gravedad:  0.32280946277474015\n",
      "Gravedad calculada:  9.461347969771126\n",
      "Error de la gravedad:  0.32280946277474015\n",
      "Gravedad calculada:  9.454074515696691\n",
      "Error de la gravedad:  0.3214448087319822\n",
      "Gravedad calculada:  9.454074515696691\n",
      "Error de la gravedad:  0.3214448087319822\n",
      "Gravedad calculada:  9.44668399921891\n",
      "Error de la gravedad:  0.32008579427746336\n",
      "Gravedad calculada:  9.44668399921891\n",
      "Error de la gravedad:  0.32008579427746336\n",
      "Gravedad calculada:  9.439179268129898\n",
      "Error de la gravedad:  0.31873245120590343\n",
      "Gravedad calculada:  9.439179268129898\n",
      "Error de la gravedad:  0.31873245120590343\n",
      "Gravedad calculada:  9.431563109822285\n",
      "Error de la gravedad:  0.3173848090253765\n",
      "Gravedad calculada:  9.431563109822285\n",
      "Error de la gravedad:  0.3173848090253765\n",
      "Gravedad calculada:  9.42383825266708\n",
      "Error de la gravedad:  0.31604289503691496\n",
      "Gravedad calculada:  9.42383825266708\n",
      "Error de la gravedad:  0.31604289503691496\n",
      "Gravedad calculada:  9.41600736735667\n",
      "Error de la gravedad:  0.31470673441151636\n",
      "Gravedad calculada:  9.41600736735667\n",
      "Error de la gravedad:  0.31470673441151636\n",
      "Gravedad calculada:  9.408073068213941\n",
      "Error de la gravedad:  0.3133763502646423\n",
      "Gravedad calculada:  9.408073068213941\n",
      "Error de la gravedad:  0.3133763502646423\n",
      "Gravedad calculada:  9.400037914468493\n",
      "Error de la gravedad:  0.31205176372828963\n",
      "Gravedad calculada:  9.400037914468493\n",
      "Error de la gravedad:  0.31205176372828963\n",
      "Gravedad calculada:  9.39190441150083\n",
      "Error de la gravedad:  0.3107329940207172\n",
      "Gravedad calculada:  9.39190441150083\n",
      "Error de la gravedad:  0.3107329940207172\n",
      "Gravedad calculada:  9.383675012055416\n",
      "Error de la gravedad:  0.3094200585139051\n",
      "Gravedad calculada:  9.383675012055416\n",
      "Error de la gravedad:  0.3094200585139051\n",
      "Gravedad calculada:  9.375352117423517\n",
      "Error de la gravedad:  0.3081129727988228\n",
      "Gravedad calculada:  9.375352117423517\n",
      "Error de la gravedad:  0.3081129727988228\n",
      "Gravedad calculada:  9.366938078596593\n",
      "Error de la gravedad:  0.3068117507485779\n",
      "Gravedad calculada:  9.366938078596593\n",
      "Error de la gravedad:  0.3068117507485779\n",
      "Gravedad calculada:  9.35843519739111\n",
      "Error de la gravedad:  0.30551640457951573\n",
      "Gravedad calculada:  9.35843519739111\n",
      "Error de la gravedad:  0.30551640457951573\n",
      "Gravedad calculada:  9.349845727545494\n",
      "Error de la gravedad:  0.30422694491033814\n",
      "Gravedad calculada:  9.349845727545494\n",
      "Error de la gravedad:  0.30422694491033814\n",
      "Gravedad calculada:  9.341171875790096\n",
      "Error de la gravedad:  0.30294338081930694\n",
      "Gravedad calculada:  9.341171875790096\n",
      "Error de la gravedad:  0.30294338081930694\n",
      "Gravedad calculada:  9.332415802890758\n",
      "Error de la gravedad:  0.301665719899594\n",
      "Gravedad calculada:  9.332415802890758\n",
      "Error de la gravedad:  0.301665719899594\n",
      "Gravedad calculada:  9.323579624666866\n",
      "Error de la gravedad:  0.3003939683128409\n",
      "Gravedad calculada:  9.323579624666866\n",
      "Error de la gravedad:  0.3003939683128409\n",
      "Gravedad calculada:  9.314665412984427\n",
      "Error de la gravedad:  0.2991281308409847\n",
      "Gravedad calculada:  9.314665412984427\n",
      "Error de la gravedad:  0.2991281308409847\n",
      "Gravedad calculada:  9.30567519672497\n",
      "Error de la gravedad:  0.2978682109364088\n",
      "Gravedad calculada:  9.30567519672497\n",
      "Error de la gravedad:  0.2978682109364088\n",
      "Gravedad calculada:  9.296610962730858\n",
      "Error de la gravedad:  0.2966142107704729\n",
      "Gravedad calculada:  9.296610962730858\n",
      "Error de la gravedad:  0.2966142107704729\n",
      "Gravedad calculada:  9.287474656727653\n",
      "Error de la gravedad:  0.29536613128047445\n",
      "Gravedad calculada:  9.287474656727653\n",
      "Error de la gravedad:  0.29536613128047445\n",
      "Gravedad calculada:  9.278268184224173\n",
      "Error de la gravedad:  0.29412397221509406\n",
      "Gravedad calculada:  9.278268184224173\n",
      "Error de la gravedad:  0.29412397221509406\n",
      "Gravedad calculada:  9.268993411390829\n",
      "Error de la gravedad:  0.29288773217837377\n",
      "Gravedad calculada:  9.268993411390829\n",
      "Error de la gravedad:  0.29288773217837377\n",
      "Gravedad calculada:  9.25965216591682\n",
      "Error de la gravedad:  0.2916574086722759\n",
      "Gravedad calculada:  9.25965216591682\n",
      "Error de la gravedad:  0.2916574086722759\n",
      "Gravedad calculada:  9.250246237846731\n",
      "Error de la gravedad:  0.29043299813786805\n",
      "Gravedad calculada:  9.250246237846731\n",
      "Error de la gravedad:  0.29043299813786805\n",
      "Gravedad calculada:  9.240777380397125\n",
      "Error de la gravedad:  0.2892144959951805\n",
      "Gravedad calculada:  9.240777380397125\n",
      "Error de la gravedad:  0.2892144959951805\n",
      "Gravedad calculada:  9.23124731075363\n",
      "Error de la gravedad:  0.28800189668177784\n",
      "Gravedad calculada:  9.23124731075363\n",
      "Error de la gravedad:  0.28800189668177784\n",
      "Gravedad calculada:  9.221657710849032\n",
      "Error de la gravedad:  0.2867951936900864\n",
      "Gravedad calculada:  9.221657710849032\n",
      "Error de la gravedad:  0.2867951936900864\n",
      "Gravedad calculada:  9.212010228122871\n",
      "Error de la gravedad:  0.2855943796035177\n",
      "Gravedad calculada:  9.212010228122871\n",
      "Error de la gravedad:  0.2855943796035177\n",
      "Gravedad calculada:  9.202306476263086\n",
      "Error de la gravedad:  0.28439944613142887\n",
      "Gravedad calculada:  9.202306476263086\n",
      "Error de la gravedad:  0.28439944613142887\n",
      "Gravedad calculada:  9.192548035930075\n",
      "Error de la gravedad:  0.28321038414295363\n",
      "Gravedad calculada:  9.192548035930075\n",
      "Error de la gravedad:  0.28321038414295363\n",
      "Gravedad calculada:  9.182736455463727\n",
      "Error de la gravedad:  0.2820271836997442\n",
      "Gravedad calculada:  9.182736455463727\n",
      "Error de la gravedad:  0.2820271836997442\n"
     ]
    }
   ],
   "source": [
    "for i in range(len(df_recta)):\n",
    "    df_recta['g_calculado'] = simulacion(df_recta['longitud'][i], df_recta['tiempo'][i])[0]\n",
    "    df_recta['g_error'] = simulacion(df_recta['longitud'][i], df_recta['tiempo'][i])[1]"
   ]
  },
  {
   "cell_type": "code",
   "execution_count": 60,
   "metadata": {},
   "outputs": [
    {
     "data": {
      "text/html": [
       "<div>\n",
       "<style scoped>\n",
       "    .dataframe tbody tr th:only-of-type {\n",
       "        vertical-align: middle;\n",
       "    }\n",
       "\n",
       "    .dataframe tbody tr th {\n",
       "        vertical-align: top;\n",
       "    }\n",
       "\n",
       "    .dataframe thead th {\n",
       "        text-align: right;\n",
       "    }\n",
       "</style>\n",
       "<table border=\"1\" class=\"dataframe\">\n",
       "  <thead>\n",
       "    <tr style=\"text-align: right;\">\n",
       "      <th></th>\n",
       "      <th>tiempo</th>\n",
       "      <th>longitud</th>\n",
       "      <th>g_calculado</th>\n",
       "      <th>g_error</th>\n",
       "    </tr>\n",
       "  </thead>\n",
       "  <tbody>\n",
       "    <tr>\n",
       "      <th>0</th>\n",
       "      <td>0.460000</td>\n",
       "      <td>1.000000</td>\n",
       "      <td>9.182736</td>\n",
       "      <td>0.282027</td>\n",
       "    </tr>\n",
       "    <tr>\n",
       "      <th>1</th>\n",
       "      <td>0.462020</td>\n",
       "      <td>1.010101</td>\n",
       "      <td>9.182736</td>\n",
       "      <td>0.282027</td>\n",
       "    </tr>\n",
       "    <tr>\n",
       "      <th>2</th>\n",
       "      <td>0.464040</td>\n",
       "      <td>1.020202</td>\n",
       "      <td>9.182736</td>\n",
       "      <td>0.282027</td>\n",
       "    </tr>\n",
       "    <tr>\n",
       "      <th>3</th>\n",
       "      <td>0.466061</td>\n",
       "      <td>1.030303</td>\n",
       "      <td>9.182736</td>\n",
       "      <td>0.282027</td>\n",
       "    </tr>\n",
       "    <tr>\n",
       "      <th>4</th>\n",
       "      <td>0.468081</td>\n",
       "      <td>1.040404</td>\n",
       "      <td>9.182736</td>\n",
       "      <td>0.282027</td>\n",
       "    </tr>\n",
       "  </tbody>\n",
       "</table>\n",
       "</div>"
      ],
      "text/plain": [
       "     tiempo  longitud  g_calculado   g_error\n",
       "0  0.460000  1.000000     9.182736  0.282027\n",
       "1  0.462020  1.010101     9.182736  0.282027\n",
       "2  0.464040  1.020202     9.182736  0.282027\n",
       "3  0.466061  1.030303     9.182736  0.282027\n",
       "4  0.468081  1.040404     9.182736  0.282027"
      ]
     },
     "execution_count": 60,
     "metadata": {},
     "output_type": "execute_result"
    }
   ],
   "source": [
    "df_recta.head()"
   ]
  }
 ],
 "metadata": {
  "kernelspec": {
   "display_name": "base",
   "language": "python",
   "name": "python3"
  },
  "language_info": {
   "codemirror_mode": {
    "name": "ipython",
    "version": 3
   },
   "file_extension": ".py",
   "mimetype": "text/x-python",
   "name": "python",
   "nbconvert_exporter": "python",
   "pygments_lexer": "ipython3",
   "version": "3.9.13"
  },
  "orig_nbformat": 4
 },
 "nbformat": 4,
 "nbformat_minor": 2
}
